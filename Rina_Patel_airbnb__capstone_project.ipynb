{
  "nbformat": 4,
  "nbformat_minor": 0,
  "metadata": {
    "colab": {
      "provenance": [],
      "authorship_tag": "ABX9TyPFKNsNJ2fyjH6iQH1dMgLo"
    },
    "kernelspec": {
      "name": "python3",
      "display_name": "Python 3"
    },
    "language_info": {
      "name": "python"
    }
  },
  "cells": [
    {
      "cell_type": "markdown",
      "metadata": {
        "id": "vncDsAP0Gaoa"
      },
      "source": [
        "# **Project Name**    - Airbnb Bookings Analysis\n",
        "\n"
      ]
    },
    {
      "cell_type": "markdown",
      "metadata": {
        "id": "beRrZCGUAJYm"
      },
      "source": [
        "##### **Project Type**    - EDA\n",
        "##### **Contribution**    - Individual\n",
        "##### **Team Member 1 -** Rina Patel"
      ]
    },
    {
      "cell_type": "markdown",
      "metadata": {
        "id": "FJNUwmbgGyua"
      },
      "source": [
        "# **Project Summary -**"
      ]
    },
    {
      "cell_type": "markdown",
      "metadata": {
        "id": "F6v_1wHtG2nS"
      },
      "source": [
        "Airbnb is a company that facilitates an online marketplace for lodging, primarily homestays for vacation rentals, and tourism activities. It basically connects travellers with local hosts who want to rent out their homes with people who are looking for accommodations in that locality. On the other hand, this platform enables hosts to list their available space and earn extra income in the form of rent and it also enables travelers to book unique homestays from local hosts, saving them money and giving them a chance to interact with locals.\n",
        "\n",
        "\n",
        "\n",
        "In the world of rising new technology and innovation, Travel industry is advancing with the role of Data Science and Analytics. Data analysis can help them to understand their business in a quite different manner and helps to improve the quality of the service by identifying the weak areas of the business. This study demonstrates how different analyses help out to make better business decisions and help analyse customer trends and satisfaction, which can lead to new and better products and services. Different analysis performed such as Exploratory Data Analysis to get the key insights from this data based on which business decisions will be taken.\n",
        "\n",
        "##**Feature information in details**\n",
        "*  **id**  unique for every observation\n",
        "* **name** name of properties\n",
        "* **host_id** id for host\n",
        "* **host_name** name of host\n",
        "* **neighbourhood_group** it contains 5 Area ['Brooklyn', 'Manhattan', 'Queens', 'Staten Island', 'Bronx']\n",
        "* **neighbourhood** it contains 221 locality names\n",
        "* **latitude** it stores latitude\n",
        "* **longitude** it stores longitude\n",
        "* **room_type** it contains 3 unique room type ['Private room', 'Entire home/apt', 'Shared room']\n",
        "* **price**  per night for rental property\n",
        "* **minimum_nights** you have to book how many days\n",
        "* **number_of_reviews** numbers of review in particular room\n",
        "* **last_review** last_review date\n",
        "* **reviews_per_month**  numbers of review per month\n",
        "* **calculated_host_listings_count** Total number of listings owned by the host\n",
        "* **availability_365** The number of days for which a particular host is available in a year\n",
        "\n",
        "##**Demand Prediction**:\n",
        "Predicting the demand for Airbnb listings in specific locations and time periods. This helps hosts understand when their properties are likely to be in high demand and adjust their pricing accordingly.\n",
        "\n",
        "##**Price Optimization**:\n",
        " Determining the optimal pricing strategy for hosts. This involves analyzing factors such as property type, location, amenities, and historical booking data to recommend competitive and profitable prices.\n",
        "\n",
        "##**Guest Profiling**:\n",
        " Profiling the typical guests who book Airbnb listings. Understanding the demographics, preferences, and behaviors of guests can help hosts tailor their listings to attract their target audience.\n",
        "\n",
        "##**Competitor Analysis**:\n",
        " Analyzing the competition in a given location to identify market gaps and opportunities for hosts. This involves studying the prices, ratings, and features of similar listings.\n",
        "\n",
        "##**Review Sentiment Analysis**:\n",
        " Analyzing guest reviews to assess the overall satisfaction of guests and identify areas for improvement. Positive reviews can also be used to promote listings.\n",
        "\n",
        "##**Data Collection**:\n",
        "The first step in an Airbnb booking analysis project is data collection.The data typically includes information about listings, booking dates, guest demographics, pricing, reviews, and more.\n",
        "\n",
        "##**Data Preprocessing**:\n",
        "Once the data is collected, it must be preprocessed to ensure its quality and consistency. This involves handling missing values, dealing with outliers, and converting data types.\n",
        "\n",
        "##**Exploratory Data Analysis (EDA)**:\n",
        "\"Exploratory Data Analysis\" (EDA) is a \"Data Exploration\" step in the Data Analysis Process, where a number of techniques are used to better understand the dataset being used.\n",
        "   Data preprocessing is a process of preparing the raw data and making it suitable for our analysis purpose, where we have to do lot of Data Cleaning, handle the missing values by using appropriate imputation techniques and based on that variable nature i.e. either of Categorical & Numerical variable.\n",
        "\n",
        "##**Data Visualization**:\n",
        "Visualizations are a powerful tool for communicating findings. Charts, graphs, and maps can be used to showcase trends, correlations, and predictions. For example,\n",
        "●\tUnivariate Analysis\n",
        "●\tBivariate Analysis or Relationship of Numerical Features\n",
        "●\tRelationship of Categorical Features\n",
        "●\tCorrelation plot\n",
        "●\tLocation wise rental price exploration\n",
        "●\tTop 100 expensive location identify\n",
        "●\tAnd finding the reason behind more rental to specific areas.\n",
        "\n",
        "##**Conclusion**:\n",
        "In this EDA project, different use cases are analysed for the given dataset to make better business decisions and help analyse customer trends and satisfaction, which can lead to new and better products and services."
      ]
    },
    {
      "cell_type": "markdown",
      "metadata": {
        "id": "w6K7xa23Elo4"
      },
      "source": [
        "# **GitHub Link -**"
      ]
    },
    {
      "cell_type": "markdown",
      "metadata": {
        "id": "h1o69JH3Eqqn"
      },
      "source": [
        "Provide your GitHub Link here."
      ]
    },
    {
      "cell_type": "markdown",
      "metadata": {
        "id": "yQaldy8SH6Dl"
      },
      "source": [
        "# **Problem Statement**\n"
      ]
    },
    {
      "cell_type": "markdown",
      "metadata": {
        "id": "DpeJGUA3kjGy"
      },
      "source": [
        "Travel industries are having an important reflection of the economy from the past few decades, and Airbnb housing price ranges are of great interest for both Hosts and Travellers. In this project, we are analysing the various aspects with different use cases which covers many aspects of Airbnb listings. It helps in not only understanding the meaningful relationships between attributes but it also allows us to do our own research and come-up with our findings."
      ]
    },
    {
      "cell_type": "markdown",
      "metadata": {
        "id": "PH-0ReGfmX4f"
      },
      "source": [
        "#### **Define Your Business Objective?**"
      ]
    },
    {
      "cell_type": "markdown",
      "metadata": {
        "id": "PhDvGCAqmjP1"
      },
      "source": [
        "Business objectives: Increase Market Share,Boost Revenue,Expand Geographical Reach,Enhance Customer Satisfaction,Reduce Operational Costs,Employee Development are the foundation of strategic planning and execution. They provide a clear roadmap for organizations to follow, ensuring that efforts and resources are channeled toward achieving specific, measurable, and time-bound goals that align with the organization's overall mission and vision. Effective business objectives drive success, motivate stakeholders, and facilitate performance evaluation."
      ]
    },
    {
      "cell_type": "markdown",
      "metadata": {
        "id": "mDgbUHAGgjLW"
      },
      "source": [
        "# **General Guidelines** : -  "
      ]
    },
    {
      "cell_type": "markdown",
      "metadata": {
        "id": "ZrxVaUj-hHfC"
      },
      "source": [
        "1.   Well-structured, formatted, and commented code is required.\n",
        "2.   Exception Handling, Production Grade Code & Deployment Ready Code will be a plus. Those students will be awarded some additional credits.\n",
        "     \n",
        "     The additional credits will have advantages over other students during Star Student selection.\n",
        "       \n",
        "             [ Note: - Deployment Ready Code is defined as, the whole .ipynb notebook should be executable in one go\n",
        "                       without a single error logged. ]\n",
        "\n",
        "3.   Each and every logic should have proper comments.\n",
        "4. You may add as many number of charts you want. Make Sure for each and every chart the following format should be answered.\n",
        "        \n",
        "\n",
        "```\n",
        "# Chart visualization code\n",
        "```\n",
        "            \n",
        "\n",
        "*   Why did you pick the specific chart?\n",
        "*   What is/are the insight(s) found from the chart?\n",
        "* Will the gained insights help creating a positive business impact?\n",
        "Are there any insights that lead to negative growth? Justify with specific reason.\n",
        "\n",
        "5. You have to create at least 20 logical & meaningful charts having important insights.\n",
        "\n",
        "\n",
        "[ Hints : - Do the Vizualization in  a structured way while following \"UBM\" Rule.\n",
        "\n",
        "U - Univariate Analysis,\n",
        "\n",
        "B - Bivariate Analysis (Numerical - Categorical, Numerical - Numerical, Categorical - Categorical)\n",
        "\n",
        "M - Multivariate Analysis\n",
        " ]\n",
        "\n",
        "\n",
        "\n"
      ]
    },
    {
      "cell_type": "code",
      "source": [],
      "metadata": {
        "id": "S2Szzuea7iH4"
      },
      "execution_count": null,
      "outputs": []
    },
    {
      "cell_type": "markdown",
      "metadata": {
        "id": "O_i_v8NEhb9l"
      },
      "source": [
        "# ***Let's Begin !***"
      ]
    },
    {
      "cell_type": "markdown",
      "metadata": {
        "id": "HhfV-JJviCcP"
      },
      "source": [
        "## ***1. Know Your Data***"
      ]
    },
    {
      "cell_type": "markdown",
      "metadata": {
        "id": "Y3lxredqlCYt"
      },
      "source": [
        "### Import Libraries"
      ]
    },
    {
      "cell_type": "code",
      "execution_count": 2,
      "metadata": {
        "id": "M8Vqi-pPk-HR"
      },
      "outputs": [],
      "source": [
        "# Import Libraries\n",
        "import pandas as pd\n",
        "import numpy as np\n",
        "import matplotlib.pyplot as plt\n",
        "import seaborn as sns\n",
        "%matplotlib inline\n",
        "import plotly.express as px\n",
        "\n",
        "#hide warnigs\n",
        "import warnings\n",
        "warnings.filterwarnings(action='ignore')"
      ]
    },
    {
      "cell_type": "markdown",
      "metadata": {
        "id": "3RnN4peoiCZX"
      },
      "source": [
        "### Dataset Loading"
      ]
    },
    {
      "cell_type": "code",
      "execution_count": 3,
      "metadata": {
        "id": "4CkvbW_SlZ_R"
      },
      "outputs": [],
      "source": [
        "# Load Dataset\n",
        "airbnb_data = pd.read_csv('/content/drive/MyDrive/Colab Notebooks/Project airbnb/Airbnb NYC 2019.csv')"
      ]
    },
    {
      "cell_type": "markdown",
      "metadata": {
        "id": "x71ZqKXriCWQ"
      },
      "source": [
        "### Dataset First View"
      ]
    },
    {
      "cell_type": "code",
      "execution_count": 4,
      "metadata": {
        "id": "LWNFOSvLl09H",
        "colab": {
          "base_uri": "https://localhost:8080/",
          "height": 730
        },
        "outputId": "0a15895e-56b2-4564-f9c2-d72028d1031d"
      },
      "outputs": [
        {
          "output_type": "execute_result",
          "data": {
            "text/plain": [
              "     id                                              name  host_id  \\\n",
              "0  2539                Clean & quiet apt home by the park     2787   \n",
              "1  2595                             Skylit Midtown Castle     2845   \n",
              "2  3647               THE VILLAGE OF HARLEM....NEW YORK !     4632   \n",
              "3  3831                   Cozy Entire Floor of Brownstone     4869   \n",
              "4  5022  Entire Apt: Spacious Studio/Loft by central park     7192   \n",
              "5  5099         Large Cozy 1 BR Apartment In Midtown East     7322   \n",
              "6  5121                                   BlissArtsSpace!     7356   \n",
              "7  5178                  Large Furnished Room Near B'way      8967   \n",
              "8  5203                Cozy Clean Guest Room - Family Apt     7490   \n",
              "9  5238                Cute & Cozy Lower East Side 1 bdrm     7549   \n",
              "\n",
              "     host_name neighbourhood_group       neighbourhood  latitude  longitude  \\\n",
              "0         John            Brooklyn          Kensington  40.64749  -73.97237   \n",
              "1     Jennifer           Manhattan             Midtown  40.75362  -73.98377   \n",
              "2    Elisabeth           Manhattan              Harlem  40.80902  -73.94190   \n",
              "3  LisaRoxanne            Brooklyn        Clinton Hill  40.68514  -73.95976   \n",
              "4        Laura           Manhattan         East Harlem  40.79851  -73.94399   \n",
              "5        Chris           Manhattan         Murray Hill  40.74767  -73.97500   \n",
              "6        Garon            Brooklyn  Bedford-Stuyvesant  40.68688  -73.95596   \n",
              "7     Shunichi           Manhattan      Hell's Kitchen  40.76489  -73.98493   \n",
              "8    MaryEllen           Manhattan     Upper West Side  40.80178  -73.96723   \n",
              "9          Ben           Manhattan           Chinatown  40.71344  -73.99037   \n",
              "\n",
              "         room_type  price  minimum_nights  number_of_reviews last_review  \\\n",
              "0     Private room    149               1                  9  2018-10-19   \n",
              "1  Entire home/apt    225               1                 45  2019-05-21   \n",
              "2     Private room    150               3                  0         NaN   \n",
              "3  Entire home/apt     89               1                270  2019-07-05   \n",
              "4  Entire home/apt     80              10                  9  2018-11-19   \n",
              "5  Entire home/apt    200               3                 74  2019-06-22   \n",
              "6     Private room     60              45                 49  2017-10-05   \n",
              "7     Private room     79               2                430  2019-06-24   \n",
              "8     Private room     79               2                118  2017-07-21   \n",
              "9  Entire home/apt    150               1                160  2019-06-09   \n",
              "\n",
              "   reviews_per_month  calculated_host_listings_count  availability_365  \n",
              "0               0.21                               6               365  \n",
              "1               0.38                               2               355  \n",
              "2                NaN                               1               365  \n",
              "3               4.64                               1               194  \n",
              "4               0.10                               1                 0  \n",
              "5               0.59                               1               129  \n",
              "6               0.40                               1                 0  \n",
              "7               3.47                               1               220  \n",
              "8               0.99                               1                 0  \n",
              "9               1.33                               4               188  "
            ],
            "text/html": [
              "\n",
              "  <div id=\"df-9d71e8b9-1d95-49d8-8248-3caa7e8d7c9b\" class=\"colab-df-container\">\n",
              "    <div>\n",
              "<style scoped>\n",
              "    .dataframe tbody tr th:only-of-type {\n",
              "        vertical-align: middle;\n",
              "    }\n",
              "\n",
              "    .dataframe tbody tr th {\n",
              "        vertical-align: top;\n",
              "    }\n",
              "\n",
              "    .dataframe thead th {\n",
              "        text-align: right;\n",
              "    }\n",
              "</style>\n",
              "<table border=\"1\" class=\"dataframe\">\n",
              "  <thead>\n",
              "    <tr style=\"text-align: right;\">\n",
              "      <th></th>\n",
              "      <th>id</th>\n",
              "      <th>name</th>\n",
              "      <th>host_id</th>\n",
              "      <th>host_name</th>\n",
              "      <th>neighbourhood_group</th>\n",
              "      <th>neighbourhood</th>\n",
              "      <th>latitude</th>\n",
              "      <th>longitude</th>\n",
              "      <th>room_type</th>\n",
              "      <th>price</th>\n",
              "      <th>minimum_nights</th>\n",
              "      <th>number_of_reviews</th>\n",
              "      <th>last_review</th>\n",
              "      <th>reviews_per_month</th>\n",
              "      <th>calculated_host_listings_count</th>\n",
              "      <th>availability_365</th>\n",
              "    </tr>\n",
              "  </thead>\n",
              "  <tbody>\n",
              "    <tr>\n",
              "      <th>0</th>\n",
              "      <td>2539</td>\n",
              "      <td>Clean &amp; quiet apt home by the park</td>\n",
              "      <td>2787</td>\n",
              "      <td>John</td>\n",
              "      <td>Brooklyn</td>\n",
              "      <td>Kensington</td>\n",
              "      <td>40.64749</td>\n",
              "      <td>-73.97237</td>\n",
              "      <td>Private room</td>\n",
              "      <td>149</td>\n",
              "      <td>1</td>\n",
              "      <td>9</td>\n",
              "      <td>2018-10-19</td>\n",
              "      <td>0.21</td>\n",
              "      <td>6</td>\n",
              "      <td>365</td>\n",
              "    </tr>\n",
              "    <tr>\n",
              "      <th>1</th>\n",
              "      <td>2595</td>\n",
              "      <td>Skylit Midtown Castle</td>\n",
              "      <td>2845</td>\n",
              "      <td>Jennifer</td>\n",
              "      <td>Manhattan</td>\n",
              "      <td>Midtown</td>\n",
              "      <td>40.75362</td>\n",
              "      <td>-73.98377</td>\n",
              "      <td>Entire home/apt</td>\n",
              "      <td>225</td>\n",
              "      <td>1</td>\n",
              "      <td>45</td>\n",
              "      <td>2019-05-21</td>\n",
              "      <td>0.38</td>\n",
              "      <td>2</td>\n",
              "      <td>355</td>\n",
              "    </tr>\n",
              "    <tr>\n",
              "      <th>2</th>\n",
              "      <td>3647</td>\n",
              "      <td>THE VILLAGE OF HARLEM....NEW YORK !</td>\n",
              "      <td>4632</td>\n",
              "      <td>Elisabeth</td>\n",
              "      <td>Manhattan</td>\n",
              "      <td>Harlem</td>\n",
              "      <td>40.80902</td>\n",
              "      <td>-73.94190</td>\n",
              "      <td>Private room</td>\n",
              "      <td>150</td>\n",
              "      <td>3</td>\n",
              "      <td>0</td>\n",
              "      <td>NaN</td>\n",
              "      <td>NaN</td>\n",
              "      <td>1</td>\n",
              "      <td>365</td>\n",
              "    </tr>\n",
              "    <tr>\n",
              "      <th>3</th>\n",
              "      <td>3831</td>\n",
              "      <td>Cozy Entire Floor of Brownstone</td>\n",
              "      <td>4869</td>\n",
              "      <td>LisaRoxanne</td>\n",
              "      <td>Brooklyn</td>\n",
              "      <td>Clinton Hill</td>\n",
              "      <td>40.68514</td>\n",
              "      <td>-73.95976</td>\n",
              "      <td>Entire home/apt</td>\n",
              "      <td>89</td>\n",
              "      <td>1</td>\n",
              "      <td>270</td>\n",
              "      <td>2019-07-05</td>\n",
              "      <td>4.64</td>\n",
              "      <td>1</td>\n",
              "      <td>194</td>\n",
              "    </tr>\n",
              "    <tr>\n",
              "      <th>4</th>\n",
              "      <td>5022</td>\n",
              "      <td>Entire Apt: Spacious Studio/Loft by central park</td>\n",
              "      <td>7192</td>\n",
              "      <td>Laura</td>\n",
              "      <td>Manhattan</td>\n",
              "      <td>East Harlem</td>\n",
              "      <td>40.79851</td>\n",
              "      <td>-73.94399</td>\n",
              "      <td>Entire home/apt</td>\n",
              "      <td>80</td>\n",
              "      <td>10</td>\n",
              "      <td>9</td>\n",
              "      <td>2018-11-19</td>\n",
              "      <td>0.10</td>\n",
              "      <td>1</td>\n",
              "      <td>0</td>\n",
              "    </tr>\n",
              "    <tr>\n",
              "      <th>5</th>\n",
              "      <td>5099</td>\n",
              "      <td>Large Cozy 1 BR Apartment In Midtown East</td>\n",
              "      <td>7322</td>\n",
              "      <td>Chris</td>\n",
              "      <td>Manhattan</td>\n",
              "      <td>Murray Hill</td>\n",
              "      <td>40.74767</td>\n",
              "      <td>-73.97500</td>\n",
              "      <td>Entire home/apt</td>\n",
              "      <td>200</td>\n",
              "      <td>3</td>\n",
              "      <td>74</td>\n",
              "      <td>2019-06-22</td>\n",
              "      <td>0.59</td>\n",
              "      <td>1</td>\n",
              "      <td>129</td>\n",
              "    </tr>\n",
              "    <tr>\n",
              "      <th>6</th>\n",
              "      <td>5121</td>\n",
              "      <td>BlissArtsSpace!</td>\n",
              "      <td>7356</td>\n",
              "      <td>Garon</td>\n",
              "      <td>Brooklyn</td>\n",
              "      <td>Bedford-Stuyvesant</td>\n",
              "      <td>40.68688</td>\n",
              "      <td>-73.95596</td>\n",
              "      <td>Private room</td>\n",
              "      <td>60</td>\n",
              "      <td>45</td>\n",
              "      <td>49</td>\n",
              "      <td>2017-10-05</td>\n",
              "      <td>0.40</td>\n",
              "      <td>1</td>\n",
              "      <td>0</td>\n",
              "    </tr>\n",
              "    <tr>\n",
              "      <th>7</th>\n",
              "      <td>5178</td>\n",
              "      <td>Large Furnished Room Near B'way</td>\n",
              "      <td>8967</td>\n",
              "      <td>Shunichi</td>\n",
              "      <td>Manhattan</td>\n",
              "      <td>Hell's Kitchen</td>\n",
              "      <td>40.76489</td>\n",
              "      <td>-73.98493</td>\n",
              "      <td>Private room</td>\n",
              "      <td>79</td>\n",
              "      <td>2</td>\n",
              "      <td>430</td>\n",
              "      <td>2019-06-24</td>\n",
              "      <td>3.47</td>\n",
              "      <td>1</td>\n",
              "      <td>220</td>\n",
              "    </tr>\n",
              "    <tr>\n",
              "      <th>8</th>\n",
              "      <td>5203</td>\n",
              "      <td>Cozy Clean Guest Room - Family Apt</td>\n",
              "      <td>7490</td>\n",
              "      <td>MaryEllen</td>\n",
              "      <td>Manhattan</td>\n",
              "      <td>Upper West Side</td>\n",
              "      <td>40.80178</td>\n",
              "      <td>-73.96723</td>\n",
              "      <td>Private room</td>\n",
              "      <td>79</td>\n",
              "      <td>2</td>\n",
              "      <td>118</td>\n",
              "      <td>2017-07-21</td>\n",
              "      <td>0.99</td>\n",
              "      <td>1</td>\n",
              "      <td>0</td>\n",
              "    </tr>\n",
              "    <tr>\n",
              "      <th>9</th>\n",
              "      <td>5238</td>\n",
              "      <td>Cute &amp; Cozy Lower East Side 1 bdrm</td>\n",
              "      <td>7549</td>\n",
              "      <td>Ben</td>\n",
              "      <td>Manhattan</td>\n",
              "      <td>Chinatown</td>\n",
              "      <td>40.71344</td>\n",
              "      <td>-73.99037</td>\n",
              "      <td>Entire home/apt</td>\n",
              "      <td>150</td>\n",
              "      <td>1</td>\n",
              "      <td>160</td>\n",
              "      <td>2019-06-09</td>\n",
              "      <td>1.33</td>\n",
              "      <td>4</td>\n",
              "      <td>188</td>\n",
              "    </tr>\n",
              "  </tbody>\n",
              "</table>\n",
              "</div>\n",
              "    <div class=\"colab-df-buttons\">\n",
              "\n",
              "  <div class=\"colab-df-container\">\n",
              "    <button class=\"colab-df-convert\" onclick=\"convertToInteractive('df-9d71e8b9-1d95-49d8-8248-3caa7e8d7c9b')\"\n",
              "            title=\"Convert this dataframe to an interactive table.\"\n",
              "            style=\"display:none;\">\n",
              "\n",
              "  <svg xmlns=\"http://www.w3.org/2000/svg\" height=\"24px\" viewBox=\"0 -960 960 960\">\n",
              "    <path d=\"M120-120v-720h720v720H120Zm60-500h600v-160H180v160Zm220 220h160v-160H400v160Zm0 220h160v-160H400v160ZM180-400h160v-160H180v160Zm440 0h160v-160H620v160ZM180-180h160v-160H180v160Zm440 0h160v-160H620v160Z\"/>\n",
              "  </svg>\n",
              "    </button>\n",
              "\n",
              "  <style>\n",
              "    .colab-df-container {\n",
              "      display:flex;\n",
              "      gap: 12px;\n",
              "    }\n",
              "\n",
              "    .colab-df-convert {\n",
              "      background-color: #E8F0FE;\n",
              "      border: none;\n",
              "      border-radius: 50%;\n",
              "      cursor: pointer;\n",
              "      display: none;\n",
              "      fill: #1967D2;\n",
              "      height: 32px;\n",
              "      padding: 0 0 0 0;\n",
              "      width: 32px;\n",
              "    }\n",
              "\n",
              "    .colab-df-convert:hover {\n",
              "      background-color: #E2EBFA;\n",
              "      box-shadow: 0px 1px 2px rgba(60, 64, 67, 0.3), 0px 1px 3px 1px rgba(60, 64, 67, 0.15);\n",
              "      fill: #174EA6;\n",
              "    }\n",
              "\n",
              "    .colab-df-buttons div {\n",
              "      margin-bottom: 4px;\n",
              "    }\n",
              "\n",
              "    [theme=dark] .colab-df-convert {\n",
              "      background-color: #3B4455;\n",
              "      fill: #D2E3FC;\n",
              "    }\n",
              "\n",
              "    [theme=dark] .colab-df-convert:hover {\n",
              "      background-color: #434B5C;\n",
              "      box-shadow: 0px 1px 3px 1px rgba(0, 0, 0, 0.15);\n",
              "      filter: drop-shadow(0px 1px 2px rgba(0, 0, 0, 0.3));\n",
              "      fill: #FFFFFF;\n",
              "    }\n",
              "  </style>\n",
              "\n",
              "    <script>\n",
              "      const buttonEl =\n",
              "        document.querySelector('#df-9d71e8b9-1d95-49d8-8248-3caa7e8d7c9b button.colab-df-convert');\n",
              "      buttonEl.style.display =\n",
              "        google.colab.kernel.accessAllowed ? 'block' : 'none';\n",
              "\n",
              "      async function convertToInteractive(key) {\n",
              "        const element = document.querySelector('#df-9d71e8b9-1d95-49d8-8248-3caa7e8d7c9b');\n",
              "        const dataTable =\n",
              "          await google.colab.kernel.invokeFunction('convertToInteractive',\n",
              "                                                    [key], {});\n",
              "        if (!dataTable) return;\n",
              "\n",
              "        const docLinkHtml = 'Like what you see? Visit the ' +\n",
              "          '<a target=\"_blank\" href=https://colab.research.google.com/notebooks/data_table.ipynb>data table notebook</a>'\n",
              "          + ' to learn more about interactive tables.';\n",
              "        element.innerHTML = '';\n",
              "        dataTable['output_type'] = 'display_data';\n",
              "        await google.colab.output.renderOutput(dataTable, element);\n",
              "        const docLink = document.createElement('div');\n",
              "        docLink.innerHTML = docLinkHtml;\n",
              "        element.appendChild(docLink);\n",
              "      }\n",
              "    </script>\n",
              "  </div>\n",
              "\n",
              "\n",
              "<div id=\"df-0225026a-9cfd-4263-9436-636e48df6ea0\">\n",
              "  <button class=\"colab-df-quickchart\" onclick=\"quickchart('df-0225026a-9cfd-4263-9436-636e48df6ea0')\"\n",
              "            title=\"Suggest charts.\"\n",
              "            style=\"display:none;\">\n",
              "\n",
              "<svg xmlns=\"http://www.w3.org/2000/svg\" height=\"24px\"viewBox=\"0 0 24 24\"\n",
              "     width=\"24px\">\n",
              "    <g>\n",
              "        <path d=\"M19 3H5c-1.1 0-2 .9-2 2v14c0 1.1.9 2 2 2h14c1.1 0 2-.9 2-2V5c0-1.1-.9-2-2-2zM9 17H7v-7h2v7zm4 0h-2V7h2v10zm4 0h-2v-4h2v4z\"/>\n",
              "    </g>\n",
              "</svg>\n",
              "  </button>\n",
              "\n",
              "<style>\n",
              "  .colab-df-quickchart {\n",
              "      --bg-color: #E8F0FE;\n",
              "      --fill-color: #1967D2;\n",
              "      --hover-bg-color: #E2EBFA;\n",
              "      --hover-fill-color: #174EA6;\n",
              "      --disabled-fill-color: #AAA;\n",
              "      --disabled-bg-color: #DDD;\n",
              "  }\n",
              "\n",
              "  [theme=dark] .colab-df-quickchart {\n",
              "      --bg-color: #3B4455;\n",
              "      --fill-color: #D2E3FC;\n",
              "      --hover-bg-color: #434B5C;\n",
              "      --hover-fill-color: #FFFFFF;\n",
              "      --disabled-bg-color: #3B4455;\n",
              "      --disabled-fill-color: #666;\n",
              "  }\n",
              "\n",
              "  .colab-df-quickchart {\n",
              "    background-color: var(--bg-color);\n",
              "    border: none;\n",
              "    border-radius: 50%;\n",
              "    cursor: pointer;\n",
              "    display: none;\n",
              "    fill: var(--fill-color);\n",
              "    height: 32px;\n",
              "    padding: 0;\n",
              "    width: 32px;\n",
              "  }\n",
              "\n",
              "  .colab-df-quickchart:hover {\n",
              "    background-color: var(--hover-bg-color);\n",
              "    box-shadow: 0 1px 2px rgba(60, 64, 67, 0.3), 0 1px 3px 1px rgba(60, 64, 67, 0.15);\n",
              "    fill: var(--button-hover-fill-color);\n",
              "  }\n",
              "\n",
              "  .colab-df-quickchart-complete:disabled,\n",
              "  .colab-df-quickchart-complete:disabled:hover {\n",
              "    background-color: var(--disabled-bg-color);\n",
              "    fill: var(--disabled-fill-color);\n",
              "    box-shadow: none;\n",
              "  }\n",
              "\n",
              "  .colab-df-spinner {\n",
              "    border: 2px solid var(--fill-color);\n",
              "    border-color: transparent;\n",
              "    border-bottom-color: var(--fill-color);\n",
              "    animation:\n",
              "      spin 1s steps(1) infinite;\n",
              "  }\n",
              "\n",
              "  @keyframes spin {\n",
              "    0% {\n",
              "      border-color: transparent;\n",
              "      border-bottom-color: var(--fill-color);\n",
              "      border-left-color: var(--fill-color);\n",
              "    }\n",
              "    20% {\n",
              "      border-color: transparent;\n",
              "      border-left-color: var(--fill-color);\n",
              "      border-top-color: var(--fill-color);\n",
              "    }\n",
              "    30% {\n",
              "      border-color: transparent;\n",
              "      border-left-color: var(--fill-color);\n",
              "      border-top-color: var(--fill-color);\n",
              "      border-right-color: var(--fill-color);\n",
              "    }\n",
              "    40% {\n",
              "      border-color: transparent;\n",
              "      border-right-color: var(--fill-color);\n",
              "      border-top-color: var(--fill-color);\n",
              "    }\n",
              "    60% {\n",
              "      border-color: transparent;\n",
              "      border-right-color: var(--fill-color);\n",
              "    }\n",
              "    80% {\n",
              "      border-color: transparent;\n",
              "      border-right-color: var(--fill-color);\n",
              "      border-bottom-color: var(--fill-color);\n",
              "    }\n",
              "    90% {\n",
              "      border-color: transparent;\n",
              "      border-bottom-color: var(--fill-color);\n",
              "    }\n",
              "  }\n",
              "</style>\n",
              "\n",
              "  <script>\n",
              "    async function quickchart(key) {\n",
              "      const quickchartButtonEl =\n",
              "        document.querySelector('#' + key + ' button');\n",
              "      quickchartButtonEl.disabled = true;  // To prevent multiple clicks.\n",
              "      quickchartButtonEl.classList.add('colab-df-spinner');\n",
              "      try {\n",
              "        const charts = await google.colab.kernel.invokeFunction(\n",
              "            'suggestCharts', [key], {});\n",
              "      } catch (error) {\n",
              "        console.error('Error during call to suggestCharts:', error);\n",
              "      }\n",
              "      quickchartButtonEl.classList.remove('colab-df-spinner');\n",
              "      quickchartButtonEl.classList.add('colab-df-quickchart-complete');\n",
              "    }\n",
              "    (() => {\n",
              "      let quickchartButtonEl =\n",
              "        document.querySelector('#df-0225026a-9cfd-4263-9436-636e48df6ea0 button');\n",
              "      quickchartButtonEl.style.display =\n",
              "        google.colab.kernel.accessAllowed ? 'block' : 'none';\n",
              "    })();\n",
              "  </script>\n",
              "</div>\n",
              "    </div>\n",
              "  </div>\n"
            ]
          },
          "metadata": {},
          "execution_count": 4
        }
      ],
      "source": [
        "# Dataset First Look\n",
        "airbnb_data.head(10)"
      ]
    },
    {
      "cell_type": "markdown",
      "metadata": {
        "id": "7hBIi_osiCS2"
      },
      "source": [
        "### Dataset Rows & Columns count"
      ]
    },
    {
      "cell_type": "code",
      "execution_count": 5,
      "metadata": {
        "id": "Kllu7SJgmLij",
        "colab": {
          "base_uri": "https://localhost:8080/"
        },
        "outputId": "09209b60-69d4-4d97-ab00-89dc1df256f9"
      },
      "outputs": [
        {
          "output_type": "execute_result",
          "data": {
            "text/plain": [
              "(48895, 16)"
            ]
          },
          "metadata": {},
          "execution_count": 5
        }
      ],
      "source": [
        "# Dataset Rows & Columns count\n",
        "airbnb_data.shape"
      ]
    },
    {
      "cell_type": "markdown",
      "metadata": {
        "id": "JlHwYmJAmNHm"
      },
      "source": [
        "### Dataset Information"
      ]
    },
    {
      "cell_type": "code",
      "execution_count": 6,
      "metadata": {
        "id": "e9hRXRi6meOf",
        "colab": {
          "base_uri": "https://localhost:8080/"
        },
        "outputId": "429579fe-e9f5-4ed4-830a-22050acee9f1"
      },
      "outputs": [
        {
          "output_type": "stream",
          "name": "stdout",
          "text": [
            "<class 'pandas.core.frame.DataFrame'>\n",
            "RangeIndex: 48895 entries, 0 to 48894\n",
            "Data columns (total 16 columns):\n",
            " #   Column                          Non-Null Count  Dtype  \n",
            "---  ------                          --------------  -----  \n",
            " 0   id                              48895 non-null  int64  \n",
            " 1   name                            48879 non-null  object \n",
            " 2   host_id                         48895 non-null  int64  \n",
            " 3   host_name                       48874 non-null  object \n",
            " 4   neighbourhood_group             48895 non-null  object \n",
            " 5   neighbourhood                   48895 non-null  object \n",
            " 6   latitude                        48895 non-null  float64\n",
            " 7   longitude                       48895 non-null  float64\n",
            " 8   room_type                       48895 non-null  object \n",
            " 9   price                           48895 non-null  int64  \n",
            " 10  minimum_nights                  48895 non-null  int64  \n",
            " 11  number_of_reviews               48895 non-null  int64  \n",
            " 12  last_review                     38843 non-null  object \n",
            " 13  reviews_per_month               38843 non-null  float64\n",
            " 14  calculated_host_listings_count  48895 non-null  int64  \n",
            " 15  availability_365                48895 non-null  int64  \n",
            "dtypes: float64(3), int64(7), object(6)\n",
            "memory usage: 6.0+ MB\n"
          ]
        }
      ],
      "source": [
        "# Dataset Info\n",
        "airbnb_data.info()"
      ]
    },
    {
      "cell_type": "markdown",
      "metadata": {
        "id": "35m5QtbWiB9F"
      },
      "source": [
        "#### Duplicate Values"
      ]
    },
    {
      "cell_type": "code",
      "execution_count": 7,
      "metadata": {
        "id": "1sLdpKYkmox0",
        "colab": {
          "base_uri": "https://localhost:8080/"
        },
        "outputId": "676eba20-6138-4ccf-ecc3-925cbd6a35f7"
      },
      "outputs": [
        {
          "output_type": "execute_result",
          "data": {
            "text/plain": [
              "0"
            ]
          },
          "metadata": {},
          "execution_count": 7
        }
      ],
      "source": [
        "# Dataset Duplicate Value Count\n",
        "airbnb_data.duplicated().sum()"
      ]
    },
    {
      "cell_type": "markdown",
      "metadata": {
        "id": "PoPl-ycgm1ru"
      },
      "source": [
        "#### Missing Values/Null Values"
      ]
    },
    {
      "cell_type": "code",
      "execution_count": 8,
      "metadata": {
        "id": "HsJRTsqL3GRD",
        "colab": {
          "base_uri": "https://localhost:8080/"
        },
        "outputId": "d957c79f-98d7-403b-9004-22ea6f041396"
      },
      "outputs": [
        {
          "output_type": "execute_result",
          "data": {
            "text/plain": [
              "id                                    0\n",
              "name                                 16\n",
              "host_id                               0\n",
              "host_name                            21\n",
              "neighbourhood_group                   0\n",
              "neighbourhood                         0\n",
              "latitude                              0\n",
              "longitude                             0\n",
              "room_type                             0\n",
              "price                                 0\n",
              "minimum_nights                        0\n",
              "number_of_reviews                     0\n",
              "last_review                       10052\n",
              "reviews_per_month                 10052\n",
              "calculated_host_listings_count        0\n",
              "availability_365                      0\n",
              "dtype: int64"
            ]
          },
          "metadata": {},
          "execution_count": 8
        }
      ],
      "source": [
        "#checking Null value\n",
        "airbnb_data.isna().sum()"
      ]
    },
    {
      "cell_type": "markdown",
      "metadata": {
        "id": "WNbNtpST3GRE"
      },
      "source": [
        "There are 4 columns that have null values, have to replace them as it might affect later while considering remaining values of the same column."
      ]
    },
    {
      "cell_type": "code",
      "execution_count": 9,
      "metadata": {
        "id": "3q5wnI3om9sJ",
        "colab": {
          "base_uri": "https://localhost:8080/",
          "height": 651
        },
        "outputId": "641770cb-403b-482c-968a-441b2912bc41"
      },
      "outputs": [
        {
          "output_type": "execute_result",
          "data": {
            "text/plain": [
              "<Axes: >"
            ]
          },
          "metadata": {},
          "execution_count": 9
        },
        {
          "output_type": "display_data",
          "data": {
            "text/plain": [
              "<Figure size 640x480 with 1 Axes>"
            ],
            "image/png": "[encoded data removed]"
          },
          "metadata": {}
        }
      ],
      "source": [
        "# Visualizing the missing values\n",
        "sns.heatmap(airbnb_data.isna(), cbar=False)"
      ]
    },
    {
      "cell_type": "markdown",
      "metadata": {
        "id": "H0kj-8xxnORC"
      },
      "source": [
        "### What did you know about your dataset?"
      ]
    },
    {
      "cell_type": "markdown",
      "metadata": {
        "id": "gfoNAAC-nUe_"
      },
      "source": [
        "The Airbnb dataset contains 48,895 rows and 16 columns. It includes geographic data as well. No duplicate values have been identified in the dataset. Around 20% of the data is missing in two columns: \"last_review\" and \"reviews_per_month\". Additionally, there are also some missing values in the \"name\" and \"host_name\" columns."
      ]
    },
    {
      "cell_type": "markdown",
      "metadata": {
        "id": "nA9Y7ga8ng1Z"
      },
      "source": [
        "## ***2. Understanding Your Variables***"
      ]
    },
    {
      "cell_type": "code",
      "execution_count": 10,
      "metadata": {
        "id": "j7xfkqrt5Ag5",
        "colab": {
          "base_uri": "https://localhost:8080/"
        },
        "outputId": "222fd744-98e6-4942-8d7c-93a62cd920ea"
      },
      "outputs": [
        {
          "output_type": "execute_result",
          "data": {
            "text/plain": [
              "Index(['id', 'name', 'host_id', 'host_name', 'neighbourhood_group',\n",
              "       'neighbourhood', 'latitude', 'longitude', 'room_type', 'price',\n",
              "       'minimum_nights', 'number_of_reviews', 'last_review',\n",
              "       'reviews_per_month', 'calculated_host_listings_count',\n",
              "       'availability_365'],\n",
              "      dtype='object')"
            ]
          },
          "metadata": {},
          "execution_count": 10
        }
      ],
      "source": [
        "# Dataset Columns\n",
        "airbnb_data.columns"
      ]
    },
    {
      "cell_type": "code",
      "execution_count": 11,
      "metadata": {
        "id": "DnOaZdaE5Q5t",
        "colab": {
          "base_uri": "https://localhost:8080/",
          "height": 320
        },
        "outputId": "b27172bb-6716-42cc-cd7e-2722fb605508"
      },
      "outputs": [
        {
          "output_type": "execute_result",
          "data": {
            "text/plain": [
              "                 id       host_id      latitude     longitude         price  \\\n",
              "count  4.889500e+04  4.889500e+04  48895.000000  48895.000000  48895.000000   \n",
              "mean   1.901714e+07  6.762001e+07     40.728949    -73.952170    152.720687   \n",
              "std    1.098311e+07  7.861097e+07      0.054530      0.046157    240.154170   \n",
              "min    2.539000e+03  2.438000e+03     40.499790    -74.244420      0.000000   \n",
              "25%    9.471945e+06  7.822033e+06     40.690100    -73.983070     69.000000   \n",
              "50%    1.967728e+07  3.079382e+07     40.723070    -73.955680    106.000000   \n",
              "75%    2.915218e+07  1.074344e+08     40.763115    -73.936275    175.000000   \n",
              "max    3.648724e+07  2.743213e+08     40.913060    -73.712990  10000.000000   \n",
              "\n",
              "       minimum_nights  number_of_reviews  reviews_per_month  \\\n",
              "count    48895.000000       48895.000000       38843.000000   \n",
              "mean         7.029962          23.274466           1.373221   \n",
              "std         20.510550          44.550582           1.680442   \n",
              "min          1.000000           0.000000           0.010000   \n",
              "25%          1.000000           1.000000           0.190000   \n",
              "50%          3.000000           5.000000           0.720000   \n",
              "75%          5.000000          24.000000           2.020000   \n",
              "max       1250.000000         629.000000          58.500000   \n",
              "\n",
              "       calculated_host_listings_count  availability_365  \n",
              "count                    48895.000000      48895.000000  \n",
              "mean                         7.143982        112.781327  \n",
              "std                         32.952519        131.622289  \n",
              "min                          1.000000          0.000000  \n",
              "25%                          1.000000          0.000000  \n",
              "50%                          1.000000         45.000000  \n",
              "75%                          2.000000        227.000000  \n",
              "max                        327.000000        365.000000  "
            ],
            "text/html": [
              "\n",
              "  <div id=\"df-ee27bfe7-00ac-41b1-9e4e-0b71ed962bc2\" class=\"colab-df-container\">\n",
              "    <div>\n",
              "<style scoped>\n",
              "    .dataframe tbody tr th:only-of-type {\n",
              "        vertical-align: middle;\n",
              "    }\n",
              "\n",
              "    .dataframe tbody tr th {\n",
              "        vertical-align: top;\n",
              "    }\n",
              "\n",
              "    .dataframe thead th {\n",
              "        text-align: right;\n",
              "    }\n",
              "</style>\n",
              "<table border=\"1\" class=\"dataframe\">\n",
              "  <thead>\n",
              "    <tr style=\"text-align: right;\">\n",
              "      <th></th>\n",
              "      <th>id</th>\n",
              "      <th>host_id</th>\n",
              "      <th>latitude</th>\n",
              "      <th>longitude</th>\n",
              "      <th>price</th>\n",
              "      <th>minimum_nights</th>\n",
              "      <th>number_of_reviews</th>\n",
              "      <th>reviews_per_month</th>\n",
              "      <th>calculated_host_listings_count</th>\n",
              "      <th>availability_365</th>\n",
              "    </tr>\n",
              "  </thead>\n",
              "  <tbody>\n",
              "    <tr>\n",
              "      <th>count</th>\n",
              "      <td>4.889500e+04</td>\n",
              "      <td>4.889500e+04</td>\n",
              "      <td>48895.000000</td>\n",
              "      <td>48895.000000</td>\n",
              "      <td>48895.000000</td>\n",
              "      <td>48895.000000</td>\n",
              "      <td>48895.000000</td>\n",
              "      <td>38843.000000</td>\n",
              "      <td>48895.000000</td>\n",
              "      <td>48895.000000</td>\n",
              "    </tr>\n",
              "    <tr>\n",
              "      <th>mean</th>\n",
              "      <td>1.901714e+07</td>\n",
              "      <td>6.762001e+07</td>\n",
              "      <td>40.728949</td>\n",
              "      <td>-73.952170</td>\n",
              "      <td>152.720687</td>\n",
              "      <td>7.029962</td>\n",
              "      <td>23.274466</td>\n",
              "      <td>1.373221</td>\n",
              "      <td>7.143982</td>\n",
              "      <td>112.781327</td>\n",
              "    </tr>\n",
              "    <tr>\n",
              "      <th>std</th>\n",
              "      <td>1.098311e+07</td>\n",
              "      <td>7.861097e+07</td>\n",
              "      <td>0.054530</td>\n",
              "      <td>0.046157</td>\n",
              "      <td>240.154170</td>\n",
              "      <td>20.510550</td>\n",
              "      <td>44.550582</td>\n",
              "      <td>1.680442</td>\n",
              "      <td>32.952519</td>\n",
              "      <td>131.622289</td>\n",
              "    </tr>\n",
              "    <tr>\n",
              "      <th>min</th>\n",
              "      <td>2.539000e+03</td>\n",
              "      <td>2.438000e+03</td>\n",
              "      <td>40.499790</td>\n",
              "      <td>-74.244420</td>\n",
              "      <td>0.000000</td>\n",
              "      <td>1.000000</td>\n",
              "      <td>0.000000</td>\n",
              "      <td>0.010000</td>\n",
              "      <td>1.000000</td>\n",
              "      <td>0.000000</td>\n",
              "    </tr>\n",
              "    <tr>\n",
              "      <th>25%</th>\n",
              "      <td>9.471945e+06</td>\n",
              "      <td>7.822033e+06</td>\n",
              "      <td>40.690100</td>\n",
              "      <td>-73.983070</td>\n",
              "      <td>69.000000</td>\n",
              "      <td>1.000000</td>\n",
              "      <td>1.000000</td>\n",
              "      <td>0.190000</td>\n",
              "      <td>1.000000</td>\n",
              "      <td>0.000000</td>\n",
              "    </tr>\n",
              "    <tr>\n",
              "      <th>50%</th>\n",
              "      <td>1.967728e+07</td>\n",
              "      <td>3.079382e+07</td>\n",
              "      <td>40.723070</td>\n",
              "      <td>-73.955680</td>\n",
              "      <td>106.000000</td>\n",
              "      <td>3.000000</td>\n",
              "      <td>5.000000</td>\n",
              "      <td>0.720000</td>\n",
              "      <td>1.000000</td>\n",
              "      <td>45.000000</td>\n",
              "    </tr>\n",
              "    <tr>\n",
              "      <th>75%</th>\n",
              "      <td>2.915218e+07</td>\n",
              "      <td>1.074344e+08</td>\n",
              "      <td>40.763115</td>\n",
              "      <td>-73.936275</td>\n",
              "      <td>175.000000</td>\n",
              "      <td>5.000000</td>\n",
              "      <td>24.000000</td>\n",
              "      <td>2.020000</td>\n",
              "      <td>2.000000</td>\n",
              "      <td>227.000000</td>\n",
              "    </tr>\n",
              "    <tr>\n",
              "      <th>max</th>\n",
              "      <td>3.648724e+07</td>\n",
              "      <td>2.743213e+08</td>\n",
              "      <td>40.913060</td>\n",
              "      <td>-73.712990</td>\n",
              "      <td>10000.000000</td>\n",
              "      <td>1250.000000</td>\n",
              "      <td>629.000000</td>\n",
              "      <td>58.500000</td>\n",
              "      <td>327.000000</td>\n",
              "      <td>365.000000</td>\n",
              "    </tr>\n",
              "  </tbody>\n",
              "</table>\n",
              "</div>\n",
              "    <div class=\"colab-df-buttons\">\n",
              "\n",
              "  <div class=\"colab-df-container\">\n",
              "    <button class=\"colab-df-convert\" onclick=\"convertToInteractive('df-ee27bfe7-00ac-41b1-9e4e-0b71ed962bc2')\"\n",
              "            title=\"Convert this dataframe to an interactive table.\"\n",
              "            style=\"display:none;\">\n",
              "\n",
              "  <svg xmlns=\"http://www.w3.org/2000/svg\" height=\"24px\" viewBox=\"0 -960 960 960\">\n",
              "    <path d=\"M120-120v-720h720v720H120Zm60-500h600v-160H180v160Zm220 220h160v-160H400v160Zm0 220h160v-160H400v160ZM180-400h160v-160H180v160Zm440 0h160v-160H620v160ZM180-180h160v-160H180v160Zm440 0h160v-160H620v160Z\"/>\n",
              "  </svg>\n",
              "    </button>\n",
              "\n",
              "  <style>\n",
              "    .colab-df-container {\n",
              "      display:flex;\n",
              "      gap: 12px;\n",
              "    }\n",
              "\n",
              "    .colab-df-convert {\n",
              "      background-color: #E8F0FE;\n",
              "      border: none;\n",
              "      border-radius: 50%;\n",
              "      cursor: pointer;\n",
              "      display: none;\n",
              "      fill: #1967D2;\n",
              "      height: 32px;\n",
              "      padding: 0 0 0 0;\n",
              "      width: 32px;\n",
              "    }\n",
              "\n",
              "    .colab-df-convert:hover {\n",
              "      background-color: #E2EBFA;\n",
              "      box-shadow: 0px 1px 2px rgba(60, 64, 67, 0.3), 0px 1px 3px 1px rgba(60, 64, 67, 0.15);\n",
              "      fill: #174EA6;\n",
              "    }\n",
              "\n",
              "    .colab-df-buttons div {\n",
              "      margin-bottom: 4px;\n",
              "    }\n",
              "\n",
              "    [theme=dark] .colab-df-convert {\n",
              "      background-color: #3B4455;\n",
              "      fill: #D2E3FC;\n",
              "    }\n",
              "\n",
              "    [theme=dark] .colab-df-convert:hover {\n",
              "      background-color: #434B5C;\n",
              "      box-shadow: 0px 1px 3px 1px rgba(0, 0, 0, 0.15);\n",
              "      filter: drop-shadow(0px 1px 2px rgba(0, 0, 0, 0.3));\n",
              "      fill: #FFFFFF;\n",
              "    }\n",
              "  </style>\n",
              "\n",
              "    <script>\n",
              "      const buttonEl =\n",
              "        document.querySelector('#df-ee27bfe7-00ac-41b1-9e4e-0b71ed962bc2 button.colab-df-convert');\n",
              "      buttonEl.style.display =\n",
              "        google.colab.kernel.accessAllowed ? 'block' : 'none';\n",
              "\n",
              "      async function convertToInteractive(key) {\n",
              "        const element = document.querySelector('#df-ee27bfe7-00ac-41b1-9e4e-0b71ed962bc2');\n",
              "        const dataTable =\n",
              "          await google.colab.kernel.invokeFunction('convertToInteractive',\n",
              "                                                    [key], {});\n",
              "        if (!dataTable) return;\n",
              "\n",
              "        const docLinkHtml = 'Like what you see? Visit the ' +\n",
              "          '<a target=\"_blank\" href=https://colab.research.google.com/notebooks/data_table.ipynb>data table notebook</a>'\n",
              "          + ' to learn more about interactive tables.';\n",
              "        element.innerHTML = '';\n",
              "        dataTable['output_type'] = 'display_data';\n",
              "        await google.colab.output.renderOutput(dataTable, element);\n",
              "        const docLink = document.createElement('div');\n",
              "        docLink.innerHTML = docLinkHtml;\n",
              "        element.appendChild(docLink);\n",
              "      }\n",
              "    </script>\n",
              "  </div>\n",
              "\n",
              "\n",
              "<div id=\"df-60d18317-ad73-4a52-82ba-7b3d9f0b1c84\">\n",
              "  <button class=\"colab-df-quickchart\" onclick=\"quickchart('df-60d18317-ad73-4a52-82ba-7b3d9f0b1c84')\"\n",
              "            title=\"Suggest charts.\"\n",
              "            style=\"display:none;\">\n",
              "\n",
              "<svg xmlns=\"http://www.w3.org/2000/svg\" height=\"24px\"viewBox=\"0 0 24 24\"\n",
              "     width=\"24px\">\n",
              "    <g>\n",
              "        <path d=\"M19 3H5c-1.1 0-2 .9-2 2v14c0 1.1.9 2 2 2h14c1.1 0 2-.9 2-2V5c0-1.1-.9-2-2-2zM9 17H7v-7h2v7zm4 0h-2V7h2v10zm4 0h-2v-4h2v4z\"/>\n",
              "    </g>\n",
              "</svg>\n",
              "  </button>\n",
              "\n",
              "<style>\n",
              "  .colab-df-quickchart {\n",
              "      --bg-color: #E8F0FE;\n",
              "      --fill-color: #1967D2;\n",
              "      --hover-bg-color: #E2EBFA;\n",
              "      --hover-fill-color: #174EA6;\n",
              "      --disabled-fill-color: #AAA;\n",
              "      --disabled-bg-color: #DDD;\n",
              "  }\n",
              "\n",
              "  [theme=dark] .colab-df-quickchart {\n",
              "      --bg-color: #3B4455;\n",
              "      --fill-color: #D2E3FC;\n",
              "      --hover-bg-color: #434B5C;\n",
              "      --hover-fill-color: #FFFFFF;\n",
              "      --disabled-bg-color: #3B4455;\n",
              "      --disabled-fill-color: #666;\n",
              "  }\n",
              "\n",
              "  .colab-df-quickchart {\n",
              "    background-color: var(--bg-color);\n",
              "    border: none;\n",
              "    border-radius: 50%;\n",
              "    cursor: pointer;\n",
              "    display: none;\n",
              "    fill: var(--fill-color);\n",
              "    height: 32px;\n",
              "    padding: 0;\n",
              "    width: 32px;\n",
              "  }\n",
              "\n",
              "  .colab-df-quickchart:hover {\n",
              "    background-color: var(--hover-bg-color);\n",
              "    box-shadow: 0 1px 2px rgba(60, 64, 67, 0.3), 0 1px 3px 1px rgba(60, 64, 67, 0.15);\n",
              "    fill: var(--button-hover-fill-color);\n",
              "  }\n",
              "\n",
              "  .colab-df-quickchart-complete:disabled,\n",
              "  .colab-df-quickchart-complete:disabled:hover {\n",
              "    background-color: var(--disabled-bg-color);\n",
              "    fill: var(--disabled-fill-color);\n",
              "    box-shadow: none;\n",
              "  }\n",
              "\n",
              "  .colab-df-spinner {\n",
              "    border: 2px solid var(--fill-color);\n",
              "    border-color: transparent;\n",
              "    border-bottom-color: var(--fill-color);\n",
              "    animation:\n",
              "      spin 1s steps(1) infinite;\n",
              "  }\n",
              "\n",
              "  @keyframes spin {\n",
              "    0% {\n",
              "      border-color: transparent;\n",
              "      border-bottom-color: var(--fill-color);\n",
              "      border-left-color: var(--fill-color);\n",
              "    }\n",
              "    20% {\n",
              "      border-color: transparent;\n",
              "      border-left-color: var(--fill-color);\n",
              "      border-top-color: var(--fill-color);\n",
              "    }\n",
              "    30% {\n",
              "      border-color: transparent;\n",
              "      border-left-color: var(--fill-color);\n",
              "      border-top-color: var(--fill-color);\n",
              "      border-right-color: var(--fill-color);\n",
              "    }\n",
              "    40% {\n",
              "      border-color: transparent;\n",
              "      border-right-color: var(--fill-color);\n",
              "      border-top-color: var(--fill-color);\n",
              "    }\n",
              "    60% {\n",
              "      border-color: transparent;\n",
              "      border-right-color: var(--fill-color);\n",
              "    }\n",
              "    80% {\n",
              "      border-color: transparent;\n",
              "      border-right-color: var(--fill-color);\n",
              "      border-bottom-color: var(--fill-color);\n",
              "    }\n",
              "    90% {\n",
              "      border-color: transparent;\n",
              "      border-bottom-color: var(--fill-color);\n",
              "    }\n",
              "  }\n",
              "</style>\n",
              "\n",
              "  <script>\n",
              "    async function quickchart(key) {\n",
              "      const quickchartButtonEl =\n",
              "        document.querySelector('#' + key + ' button');\n",
              "      quickchartButtonEl.disabled = true;  // To prevent multiple clicks.\n",
              "      quickchartButtonEl.classList.add('colab-df-spinner');\n",
              "      try {\n",
              "        const charts = await google.colab.kernel.invokeFunction(\n",
              "            'suggestCharts', [key], {});\n",
              "      } catch (error) {\n",
              "        console.error('Error during call to suggestCharts:', error);\n",
              "      }\n",
              "      quickchartButtonEl.classList.remove('colab-df-spinner');\n",
              "      quickchartButtonEl.classList.add('colab-df-quickchart-complete');\n",
              "    }\n",
              "    (() => {\n",
              "      let quickchartButtonEl =\n",
              "        document.querySelector('#df-60d18317-ad73-4a52-82ba-7b3d9f0b1c84 button');\n",
              "      quickchartButtonEl.style.display =\n",
              "        google.colab.kernel.accessAllowed ? 'block' : 'none';\n",
              "    })();\n",
              "  </script>\n",
              "</div>\n",
              "    </div>\n",
              "  </div>\n"
            ]
          },
          "metadata": {},
          "execution_count": 11
        }
      ],
      "source": [
        "# Dataset Describe\n",
        "airbnb_data.describe()"
      ]
    },
    {
      "cell_type": "markdown",
      "metadata": {
        "id": "PBTbrJXOngz2"
      },
      "source": [
        "### Variables Description"
      ]
    },
    {
      "cell_type": "markdown",
      "metadata": {
        "id": "aJV4KIxSnxay"
      },
      "source": [
        "The dataset comprises 16 variables, with 10 being numeric and 6 being of object type."
      ]
    },
    {
      "cell_type": "markdown",
      "metadata": {
        "id": "u3PMJOP6ngxN"
      },
      "source": [
        "### Check Unique Values for each variable."
      ]
    },
    {
      "cell_type": "code",
      "execution_count": 12,
      "metadata": {
        "id": "CIZ74G4C3GRH",
        "colab": {
          "base_uri": "https://localhost:8080/"
        },
        "outputId": "7274e7ea-4107-439a-d230-c65271f9fc45"
      },
      "outputs": [
        {
          "output_type": "stream",
          "name": "stdout",
          "text": [
            "No. of unique values in  id is [    2539     2595     3647 ... 36485431 36485609 36487245] .\n",
            "\n",
            "No. of unique values in  name is ['Clean & quiet apt home by the park' 'Skylit Midtown Castle'\n",
            " 'THE VILLAGE OF HARLEM....NEW YORK !' ...\n",
            " 'Sunny Studio at Historical Neighborhood'\n",
            " '43rd St. Time Square-cozy single bed'\n",
            " \"Trendy duplex in the very heart of Hell's Kitchen\"] .\n",
            "\n",
            "No. of unique values in  host_id is [     2787      2845      4632 ... 274321313  23492952  68119814] .\n",
            "\n",
            "No. of unique values in  host_name is ['John' 'Jennifer' 'Elisabeth' ... 'Abayomi' 'Alberth' 'Ilgar & Aysel'] .\n",
            "\n",
            "No. of unique values in  neighbourhood_group is ['Brooklyn' 'Manhattan' 'Queens' 'Staten Island' 'Bronx'] .\n",
            "\n",
            "No. of unique values in  neighbourhood is ['Kensington' 'Midtown' 'Harlem' 'Clinton Hill' 'East Harlem'\n",
            " 'Murray Hill' 'Bedford-Stuyvesant' \"Hell's Kitchen\" 'Upper West Side'\n",
            " 'Chinatown' 'South Slope' 'West Village' 'Williamsburg' 'Fort Greene'\n",
            " 'Chelsea' 'Crown Heights' 'Park Slope' 'Windsor Terrace' 'Inwood'\n",
            " 'East Village' 'Greenpoint' 'Bushwick' 'Flatbush' 'Lower East Side'\n",
            " 'Prospect-Lefferts Gardens' 'Long Island City' 'Kips Bay' 'SoHo'\n",
            " 'Upper East Side' 'Prospect Heights' 'Washington Heights' 'Woodside'\n",
            " 'Brooklyn Heights' 'Carroll Gardens' 'Gowanus' 'Flatlands' 'Cobble Hill'\n",
            " 'Flushing' 'Boerum Hill' 'Sunnyside' 'DUMBO' 'St. George' 'Highbridge'\n",
            " 'Financial District' 'Ridgewood' 'Morningside Heights' 'Jamaica'\n",
            " 'Middle Village' 'NoHo' 'Ditmars Steinway' 'Flatiron District'\n",
            " 'Roosevelt Island' 'Greenwich Village' 'Little Italy' 'East Flatbush'\n",
            " 'Tompkinsville' 'Astoria' 'Clason Point' 'Eastchester' 'Kingsbridge'\n",
            " 'Two Bridges' 'Queens Village' 'Rockaway Beach' 'Forest Hills' 'Nolita'\n",
            " 'Woodlawn' 'University Heights' 'Gravesend' 'Gramercy' 'Allerton'\n",
            " 'East New York' 'Theater District' 'Concourse Village' 'Sheepshead Bay'\n",
            " 'Emerson Hill' 'Fort Hamilton' 'Bensonhurst' 'Tribeca' 'Shore Acres'\n",
            " 'Sunset Park' 'Concourse' 'Elmhurst' 'Brighton Beach' 'Jackson Heights'\n",
            " 'Cypress Hills' 'St. Albans' 'Arrochar' 'Rego Park' 'Wakefield' 'Clifton'\n",
            " 'Bay Ridge' 'Graniteville' 'Spuyten Duyvil' 'Stapleton' 'Briarwood'\n",
            " 'Ozone Park' 'Columbia St' 'Vinegar Hill' 'Mott Haven' 'Longwood'\n",
            " 'Canarsie' 'Battery Park City' 'Civic Center' 'East Elmhurst'\n",
            " 'New Springville' 'Morris Heights' 'Arverne' 'Cambria Heights'\n",
            " 'Tottenville' 'Mariners Harbor' 'Concord' 'Borough Park' 'Bayside'\n",
            " 'Downtown Brooklyn' 'Port Morris' 'Fieldston' 'Kew Gardens' 'Midwood'\n",
            " 'College Point' 'Mount Eden' 'City Island' 'Glendale' 'Port Richmond'\n",
            " 'Red Hook' 'Richmond Hill' 'Bellerose' 'Maspeth' 'Williamsbridge'\n",
            " 'Soundview' 'Woodhaven' 'Woodrow' 'Co-op City' 'Stuyvesant Town'\n",
            " 'Parkchester' 'North Riverdale' 'Dyker Heights' 'Bronxdale' 'Sea Gate'\n",
            " 'Riverdale' 'Kew Gardens Hills' 'Bay Terrace' 'Norwood'\n",
            " 'Claremont Village' 'Whitestone' 'Fordham' 'Bayswater' 'Navy Yard'\n",
            " 'Brownsville' 'Eltingville' 'Fresh Meadows' 'Mount Hope'\n",
            " 'Lighthouse Hill' 'Springfield Gardens' 'Howard Beach' 'Belle Harbor'\n",
            " 'Jamaica Estates' 'Van Nest' 'Morris Park' 'West Brighton' 'Far Rockaway'\n",
            " 'South Ozone Park' 'Tremont' 'Corona' 'Great Kills' 'Manhattan Beach'\n",
            " 'Marble Hill' 'Dongan Hills' 'Castleton Corners' 'East Morrisania'\n",
            " 'Hunts Point' 'Neponsit' 'Pelham Bay' 'Randall Manor' 'Throgs Neck'\n",
            " 'Todt Hill' 'West Farms' 'Silver Lake' 'Morrisania' 'Laurelton'\n",
            " 'Grymes Hill' 'Holliswood' 'Pelham Gardens' 'Belmont' 'Rosedale'\n",
            " 'Edgemere' 'New Brighton' 'Midland Beach' 'Baychester' 'Melrose'\n",
            " 'Bergen Beach' 'Richmondtown' 'Howland Hook' 'Schuylerville'\n",
            " 'Coney Island' 'New Dorp Beach' \"Prince's Bay\" 'South Beach' 'Bath Beach'\n",
            " 'Jamaica Hills' 'Oakwood' 'Castle Hill' 'Hollis' 'Douglaston' 'Huguenot'\n",
            " 'Olinville' 'Edenwald' 'Grant City' 'Westerleigh'\n",
            " 'Bay Terrace, Staten Island' 'Westchester Square' 'Little Neck'\n",
            " 'Fort Wadsworth' 'Rosebank' 'Unionport' 'Mill Basin' 'Arden Heights'\n",
            " \"Bull's Head\" 'New Dorp' 'Rossville' 'Breezy Point' 'Willowbrook'] .\n",
            "\n",
            "No. of unique values in  latitude is [40.64749 40.75362 40.80902 ... 40.80953 40.70184 40.81475] .\n",
            "\n",
            "No. of unique values in  longitude is [-73.97237 -73.98377 -73.9419  ... -73.87727 -73.93614 -73.80844] .\n",
            "\n",
            "No. of unique values in  room_type is ['Private room' 'Entire home/apt' 'Shared room'] .\n",
            "\n",
            "No. of unique values in  price is [  149   225   150    89    80   200    60    79   135    85   120   140\n",
            "   215    99   190   299   130   110    44   180    50    52    55    70\n",
            "    35    40    68   115   151   228   144    69    49   375   250   275\n",
            "   230    51    65   105    95   145   285    94   800   131    98   100\n",
            "   125   175   500   101   220    59   350   199   325   235   170   400\n",
            "    75    90   185    77    76   160   195   156   219   475   165   196\n",
            "    83   123   265   249   121    45    71    64   159   189   239   305\n",
            "   155    92    36    37   205    39   390   129   212   124   122   109\n",
            "   575   229   169   113   179   349   139   650    67   599   211   290\n",
            "    87   395   260    97   132   141   495   259    96   295   451   300\n",
            "    42   255    72    88   450   198    46    33   106    91  2000   429\n",
            "   107    43   248    41   157   172   146   116   288   270   241   399\n",
            "   438   279   137   280   226   154   700   246   119   850    81    54\n",
            "   760    48    58   153    73   485   310   167   147    34    93    56\n",
            "  1300   127   402    30   240   385    47   209   192    86   245   499\n",
            "   387   178  3000   549    20    74   104   298   269   138   208   142\n",
            "   174   315   210   311    82   117   380   328   102   118   217   152\n",
            "   197   133   331   128   136   148  1000   263   433    61   234   595\n",
            "   108   355   134    62   550    84    78   900   103   330   425   168\n",
            "    66   625   171   187   600   312    38   163   158   173   465    63\n",
            "   340    57  4000   999   289   166   176   339   191  2500   329   890\n",
            "    53   420   950   334  1395   221   182   750   181   112  1500  1899\n",
            "   188   262   111   162    29   232  5000   345  1100   224    10   194\n",
            "    31  1200   440   439   555   143   184   799   455   193   161   201\n",
            "  1700   525    32   251  1999   480   320   164   272   177   560  6000\n",
            "   379   303   675   749  5250  1550  1250  1485   369  6500  2750  3750\n",
            "  1600   975    25    18  2300   409   218   430  4500  8000   795   414\n",
            "   126    16   785   370    22   316   264   318   273   308   365   216\n",
            "   545   860   540   233  1400   383   419  1050  2695   985   360   699\n",
            "   227   247   895  9999   258  2400   254   346   415   995  1763   510\n",
            "  1450   281    27    28   825   524   202   244   114   341   257   322\n",
            "   276   207   445   284   449   680  1495   256   888   389   460 10000\n",
            "   222   243   267   398   386   319   238   374   490   335  1195   203\n",
            "   469   186   352   297   237   745   410  1170   261  1150   434   590\n",
            "   899   304   296   183   531   214   655    24   477   372   206    26\n",
            "   587   204  1731  1002   333   283   814  1800   278   421   690   619\n",
            "  2100   348   223   268   359   436   935   274   376   980   294   559\n",
            "   509   301   408  3800   479  2350   822    23   407   489   252   672\n",
            "   378   584   894   643   462   649   302   321   534   748   487   236\n",
            "  1020    19  1599    21   585  2590    11   640   459    12  2250   484\n",
            "   337   317    15  2800  1475   615  2900   287     0   515  1067   424\n",
            "   578   789  1795  1095   530  3900   496   435   422   367   695  1177\n",
            "   790   253   573   766   231   840   577   589   949   358   213  2200\n",
            "   497  1066   412   647   277   720  2010  3210  4160  1046   271   416\n",
            "  1680  7703  3518  6419  2626  2103  8500  2990   620   394   323   974\n",
            "   344  1333   780   347   393   309   483   737   470   689   639   848\n",
            "   403   471   377   282   314   478   670  2545  1115   520   913   505\n",
            "   718   692  3600   307   306  1880   714   956   266   292  2999   418\n",
            "   452   397   343   291   392   356   242   396   332   361   453   481\n",
            "   466   388   423   362   313   805   725   443  1350  3200   293   432\n",
            "   444  1075   820   373  1750  1080  1299  1295   519  1978  1494  3512\n",
            "   382   404   503   472   454   431   468   498   612   488  1497  2850\n",
            "   990   506   324  1315   446  7500  3613  2600  4100   794  1145  1306\n",
            "   336  5100   898   327   442   474  1799   353  4200   616  6800   945\n",
            "   539   426   875   463   688   580   583   381  1900   659   830    13\n",
            "   447  1099   428   920   930  2995   342   843   417  1308   561  1369\n",
            "  1749   338] .\n",
            "\n",
            "No. of unique values in  minimum_nights is [   1    3   10   45    2    5    4   90    7   14   60   29   30  180\n",
            "    9   31    6   15    8   26   28  200   50   17   21   11   25   13\n",
            "   35   27   18   20   40   44   65   55  120  365  122   19  240   88\n",
            "  115  150  370   16   80  181  265  300   59  185  360   56   12   70\n",
            "   39   24   32 1000  110  270   22   75  250   62   23 1250  364   74\n",
            "  198  100  500   43   91  480   53   99  160   47  999  186  366   68\n",
            "   93   87  183  299  175   98  133  354   42   33   37  225  400  105\n",
            "  184  153  134  222   58  210  275  182  114   85   36] .\n",
            "\n",
            "No. of unique values in  number_of_reviews is [  9  45   0 270  74  49 430 118 160  53 188 167 113  27 148 198 260 130\n",
            "  39  71  88  19  58 108  29 242 197 273 168 231 214 245  15  25  81  97\n",
            "  11 248  61 135 112  73  82 328 105 289 138  21  42   5  66 143 191   4\n",
            " 338 106 190  23 142  54  70  16  94 194   2 174  24 166   1  30 139 233\n",
            "  68  46 335 162 170 334  12 467   7  38 324 115 354 195  13  36  63 155\n",
            " 193  32  50  26 426 227  84   3  10 124 240 200  79  34 134 126 234 202\n",
            "  28 309  14  80 294 150  47 219 114 213  86  18 206 122  33  52  51 199\n",
            "  41 109 151 285 375   6 358 226 104 204 253 129  37  69 192  17 222 205\n",
            " 458 183 189 127  35 171  92 238  56 111 147 177 185  62 181 333 441 279\n",
            " 203 210  64 132  20  67 187  22  93  48 120  43  59  31 220 286 398  76\n",
            " 182   8 228 388 223 218  75 370 131 136  98 380 163 247 116 320 225  95\n",
            " 403 175 263 232  72 414 119 117 385 103 280  57 480 101  87 241  90  99\n",
            " 271  89 179 401  83 211 295 207 172 330 123  55 258 128  60 152 154 164\n",
            " 278 235 305 102  65  40 100 125 229 107 176 178 216 314 153 110 244 208\n",
            " 121 157 209  44 158 236 215  78 297  77 265 156 272 268 133 165 269 243\n",
            " 137 145 339 454 230 144 439 261 319 184 451 169 266 251 141 304 474  85\n",
            " 221 201 321 250 149 254 161 323 347 296  96 173 239 404 326 363 146 327\n",
            " 237 353  91 302 276 186 322 267 540 224 291 315 313 594 597 607 287 159\n",
            " 395 281 447 356 360 349 246 308 292 140 284 374 196 212 274 340 386 336\n",
            " 249 275 259 252 298 288 255 365 257 217 488 332 180 277 389 372 299 394\n",
            " 357 350 352 351 262 318 307 325 282 396 466 397 290 448 424 408 543 264\n",
            " 629 576 256 459 412 378 411 434 510 306 392 417 368 436 310 341] .\n",
            "\n",
            "No. of unique values in  last_review is ['2018-10-19' '2019-05-21' nan ... '2017-12-23' '2018-01-29' '2018-03-29'] .\n",
            "\n",
            "No. of unique values in  reviews_per_month is [2.100e-01 3.800e-01       nan 4.640e+00 1.000e-01 5.900e-01 4.000e-01\n",
            " 3.470e+00 9.900e-01 1.330e+00 4.300e-01 1.500e+00 1.340e+00 9.100e-01\n",
            " 2.200e-01 1.200e+00 1.720e+00 2.120e+00 4.440e+00 7.000e-02 1.090e+00\n",
            " 3.700e-01 6.100e-01 7.300e-01 1.370e+00 4.900e-01 1.110e+00 2.400e-01\n",
            " 2.040e+00 1.420e+00 1.650e+00 2.370e+00 6.600e-01 1.410e+00 1.960e+00\n",
            " 1.810e+00 2.080e+00 3.900e-01 2.300e-01 6.900e-01 8.400e-01 2.250e+00\n",
            " 5.200e-01 1.160e+00 1.010e+00 6.300e-01 7.000e-01 2.820e+00 9.000e-01\n",
            " 1.700e-01 2.490e+00 1.190e+00 3.000e-01 1.200e-01 5.700e-01 1.600e-01\n",
            " 4.720e+00 1.400e+00 1.260e+00 1.640e+00 1.600e+00 9.200e-01 2.000e-01\n",
            " 1.280e+00 5.400e-01 6.200e-01 1.500e-01 5.300e-01 1.730e+00 5.000e-02\n",
            " 1.540e+00 2.800e-01 3.400e+00 1.570e+00 1.050e+00 7.100e-01 1.100e-01\n",
            " 2.700e-01 1.230e+00 8.700e-01 2.090e+00 6.000e-01 5.500e-01 3.020e+00\n",
            " 7.900e-01 1.460e+00 1.610e+00 3.000e+00 1.300e-01 4.220e+00 6.000e-02\n",
            " 3.010e+00 3.200e+00 2.030e+00 8.000e-02 1.900e-01 3.300e-01 5.800e-01\n",
            " 2.350e+00 1.860e+00 2.900e-01 4.500e-01 2.500e-01 2.000e-02 3.890e+00\n",
            " 7.700e-01 3.000e-02 4.000e-02 1.000e-02 2.190e+00 7.400e-01 9.000e-02\n",
            " 3.200e-01 1.240e+00 2.600e+00 2.600e-01 2.860e+00 2.170e+00 1.660e+00\n",
            " 9.400e-01 1.780e+00 7.800e-01 1.060e+00 2.000e+00 8.000e-01 7.500e-01\n",
            " 3.600e-01 1.790e+00 1.920e+00 1.180e+00 5.000e-01 1.170e+00 4.800e-01\n",
            " 1.850e+00 1.040e+00 1.430e+00 2.690e+00 3.520e+00 3.100e-01 3.440e+00\n",
            " 1.000e+00 1.450e+00 3.040e+00 1.220e+00 1.130e+00 3.500e-01 6.500e-01\n",
            " 1.840e+00 9.600e-01 2.100e+00 4.580e+00 6.700e-01 1.800e-01 1.830e+00\n",
            " 1.820e+00 1.300e+00 3.400e-01 2.210e+00 1.800e+00 2.300e+00 2.130e+00\n",
            " 1.440e+00 1.710e+00 1.770e+00 3.190e+00 4.500e+00 4.600e-01 2.390e+00\n",
            " 1.380e+00 4.100e-01 1.400e-01 3.550e+00 2.270e+00 1.270e+00 1.310e+00\n",
            " 1.870e+00 5.600e-01 9.300e-01 6.800e-01 1.250e+00 1.880e+00 4.200e-01\n",
            " 4.400e-01 2.010e+00 2.810e+00 3.970e+00 7.600e-01 5.100e-01 8.500e-01\n",
            " 2.400e+00 1.070e+00 3.880e+00 2.220e+00 1.510e+00 2.260e+00 1.210e+00\n",
            " 3.740e+00 1.760e+00 1.680e+00 3.830e+00 2.530e+00 2.510e+00 3.230e+00\n",
            " 4.100e+00 1.550e+00 2.410e+00 7.200e-01 8.600e-01 2.180e+00 4.340e+00\n",
            " 2.140e+00 4.000e+00 1.080e+00 2.330e+00 2.310e+00 2.920e+00 8.900e-01\n",
            " 1.940e+00 6.700e+00 4.700e-01 4.600e+00 9.500e-01 2.840e+00 1.970e+00\n",
            " 2.020e+00 6.620e+00 9.700e-01 1.290e+00 3.900e+00 2.850e+00 1.620e+00\n",
            " 7.140e+00 2.700e+00 2.900e+00 1.630e+00 2.470e+00 6.400e-01 2.950e+00\n",
            " 1.150e+00 3.240e+00 1.520e+00 8.800e-01 1.360e+00 1.590e+00 1.320e+00\n",
            " 2.590e+00 2.450e+00 1.890e+00 9.800e-01 2.650e+00 2.500e+00 2.830e+00\n",
            " 3.450e+00 1.020e+00 2.740e+00 1.750e+00 2.320e+00 2.380e+00 2.520e+00\n",
            " 1.100e+00 8.200e-01 1.120e+00 1.690e+00 1.390e+00 2.440e+00 2.290e+00\n",
            " 8.100e-01 2.420e+00 3.600e+00 3.370e+00 2.110e+00 2.990e+00 1.470e+00\n",
            " 1.490e+00 3.180e+00 3.090e+00 2.750e+00 1.530e+00 1.140e+00 3.300e+00\n",
            " 1.350e+00 3.150e+00 2.060e+00 2.150e+00 5.270e+00 8.300e-01 5.120e+00\n",
            " 1.560e+00 3.780e+00 2.630e+00 2.540e+00 3.510e+00 5.260e+00 3.850e+00\n",
            " 2.200e+00 3.170e+00 1.030e+00 3.700e+00 5.530e+00 2.550e+00 1.910e+00\n",
            " 4.140e+00 1.950e+00 3.930e+00 1.900e+00 1.990e+00 3.050e+00 3.160e+00\n",
            " 3.530e+00 4.240e+00 2.570e+00 1.980e+00 3.920e+00 3.590e+00 3.560e+00\n",
            " 2.890e+00 4.900e+00 3.960e+00 4.550e+00 2.070e+00 1.930e+00 1.670e+00\n",
            " 1.700e+00 4.010e+00 1.000e+01 2.960e+00 3.350e+00 2.680e+00 3.340e+00\n",
            " 4.160e+00 2.620e+00 4.330e+00 2.790e+00 3.070e+00 4.180e+00 2.340e+00\n",
            " 3.580e+00 4.460e+00 6.950e+00 2.910e+00 2.970e+00 2.360e+00 3.690e+00\n",
            " 4.030e+00 4.090e+00 7.570e+00 7.720e+00 7.750e+00 5.390e+00 3.080e+00\n",
            " 4.300e+00 5.160e+00 3.680e+00 2.460e+00 5.890e+00 1.740e+00 3.140e+00\n",
            " 4.790e+00 2.720e+00 3.220e+00 3.270e+00 3.120e+00 4.730e+00 4.110e+00\n",
            " 2.610e+00 3.800e+00 2.660e+00 3.660e+00 3.870e+00 2.870e+00 5.060e+00\n",
            " 2.670e+00 3.310e+00 2.240e+00 2.230e+00 4.510e+00 3.410e+00 4.670e+00\n",
            " 5.680e+00 3.100e+00 2.780e+00 5.400e+00 4.540e+00 2.640e+00 2.050e+00\n",
            " 2.800e+00 3.280e+00 4.020e+00 3.110e+00 3.320e+00 4.620e+00 3.490e+00\n",
            " 4.430e+00 3.940e+00 3.500e+00 1.580e+00 3.390e+00 6.300e+00 2.770e+00\n",
            " 4.830e+00 8.520e+00 3.630e+00 4.490e+00 3.460e+00 4.710e+00 3.610e+00\n",
            " 3.360e+00 3.820e+00 3.250e+00 3.130e+00 2.980e+00 3.420e+00 3.380e+00\n",
            " 3.290e+00 4.820e+00 3.030e+00 4.320e+00 3.330e+00 4.290e+00 4.910e+00\n",
            " 4.310e+00 1.480e+00 2.930e+00 2.710e+00 2.430e+00 3.620e+00 2.280e+00\n",
            " 4.270e+00 5.200e+00 4.200e+00 5.540e+00 4.050e+00 3.670e+00 4.070e+00\n",
            " 5.810e+00 3.260e+00 4.840e+00 4.570e+00 3.060e+00 3.720e+00 4.360e+00\n",
            " 4.690e+00 3.540e+00 2.880e+00 4.210e+00 3.950e+00 2.730e+00 8.140e+00\n",
            " 3.480e+00 3.790e+00 5.570e+00 4.120e+00 5.960e+00 4.950e+00 2.480e+00\n",
            " 6.510e+00 4.630e+00 6.230e+00 5.040e+00 5.460e+00 4.370e+00 5.030e+00\n",
            " 6.760e+00 4.990e+00 5.000e+00 2.760e+00 2.580e+00 4.130e+00 3.760e+00\n",
            " 5.020e+00 3.640e+00 3.990e+00 6.790e+00 6.190e+00 2.560e+00 6.220e+00\n",
            " 3.910e+00 6.050e+00 5.600e+00 6.100e+00 6.090e+00 4.660e+00 2.940e+00\n",
            " 4.150e+00 5.900e+00 6.310e+00 7.530e+00 3.810e+00 3.210e+00 4.400e+00\n",
            " 8.210e+00 4.650e+00 5.780e+00 3.430e+00 5.440e+00 4.450e+00 5.660e+00\n",
            " 1.345e+01 2.160e+00 3.860e+00 6.770e+00 4.080e+00 4.390e+00 4.380e+00\n",
            " 3.750e+00 5.510e+00 4.420e+00 5.720e+00 7.710e+00 5.290e+00 9.160e+00\n",
            " 5.170e+00 5.920e+00 4.870e+00 7.970e+00 4.940e+00 8.820e+00 3.710e+00\n",
            " 4.590e+00 4.480e+00 5.280e+00 3.570e+00 4.850e+00 3.650e+00 4.700e+00\n",
            " 5.370e+00 4.260e+00 9.630e+00 4.560e+00 5.410e+00 5.130e+00 5.450e+00\n",
            " 5.090e+00 8.860e+00 8.560e+00 4.190e+00 4.170e+00 6.610e+00 4.780e+00\n",
            " 5.360e+00 7.310e+00 6.370e+00 6.260e+00 7.070e+00 4.980e+00 1.159e+01\n",
            " 4.060e+00 4.350e+00 4.530e+00 4.680e+00 5.420e+00 5.980e+00 5.220e+00\n",
            " 5.610e+00 4.230e+00 6.460e+00 5.650e+00 5.850e+00 5.590e+00 5.940e+00\n",
            " 5.110e+00 5.180e+00 1.458e+01 4.470e+00 4.770e+00 6.570e+00 4.890e+00\n",
            " 6.120e+00 4.800e+00 5.620e+00 3.980e+00 6.250e+00 5.950e+00 1.340e+01\n",
            " 5.490e+00 1.072e+01 5.250e+00 4.040e+00 5.340e+00 4.760e+00 3.770e+00\n",
            " 5.870e+00 5.010e+00 6.080e+00 5.830e+00 4.520e+00 9.260e+00 5.080e+00\n",
            " 7.380e+00 1.019e+01 6.780e+00 6.020e+00 5.070e+00 5.710e+00 4.610e+00\n",
            " 6.380e+00 4.250e+00 9.670e+00 5.970e+00 3.840e+00 4.810e+00 6.680e+00\n",
            " 6.150e+00 5.240e+00 4.740e+00 4.860e+00 7.450e+00 5.150e+00 5.140e+00\n",
            " 3.730e+00 4.880e+00 6.000e+00 6.740e+00 5.790e+00 9.610e+00 9.300e+00\n",
            " 6.360e+00 1.140e+01 7.100e+00 5.300e+00 5.630e+00 5.430e+00 9.240e+00\n",
            " 4.750e+00 4.930e+00 6.070e+00 9.390e+00 1.284e+01 6.910e+00 5.210e+00\n",
            " 5.880e+00 6.130e+00 4.410e+00 5.470e+00 6.350e+00 6.400e+00 6.970e+00\n",
            " 6.710e+00 6.550e+00 6.010e+00 6.640e+00 6.540e+00 6.450e+00 6.900e+00\n",
            " 7.280e+00 5.690e+00 8.180e+00 9.830e+00 1.622e+01 5.750e+00 1.064e+01\n",
            " 8.170e+00 9.820e+00 5.310e+00 5.350e+00 8.330e+00 8.790e+00 7.230e+00\n",
            " 4.960e+00 1.315e+01 5.320e+00 7.180e+00 1.436e+01 9.660e+00 6.170e+00\n",
            " 6.030e+00 5.700e+00 5.230e+00 1.348e+01 1.191e+01 5.190e+00 8.580e+00\n",
            " 5.740e+00 4.280e+00 1.060e+01 7.960e+00 1.172e+01 6.650e+00 1.324e+01\n",
            " 7.000e+00 8.070e+00 5.580e+00 7.120e+00 6.920e+00 1.603e+01 5.050e+00\n",
            " 7.040e+00 5.840e+00 1.034e+01 5.330e+00 7.050e+00 7.840e+00 7.660e+00\n",
            " 7.790e+00 5.990e+00 5.820e+00 8.160e+00 5.910e+00 5.770e+00 1.156e+01\n",
            " 7.640e+00 5.550e+00 7.650e+00 5.730e+00 5.860e+00 7.270e+00 6.590e+00\n",
            " 1.327e+01 4.970e+00 7.760e+00 6.210e+00 6.600e+00 6.580e+00 5.760e+00\n",
            " 7.500e+00 6.180e+00 6.270e+00 6.440e+00 6.870e+00 8.750e+00 8.950e+00\n",
            " 5.480e+00 7.330e+00 5.380e+00 1.039e+01 7.430e+00 7.190e+00 1.299e+01\n",
            " 8.870e+00 5.800e+00 5.500e+00 1.975e+01 6.290e+00 9.410e+00 1.254e+01\n",
            " 7.240e+00 1.028e+01 1.038e+01 8.920e+00 8.240e+00 1.086e+01 7.900e+00\n",
            " 8.570e+00 1.015e+01 8.740e+00 5.670e+00 5.100e+00 8.430e+00 1.782e+01\n",
            " 6.800e+00 8.680e+00 7.390e+00 7.470e+00 1.117e+01 6.940e+00 1.681e+01\n",
            " 7.670e+00 7.870e+00 7.550e+00 5.560e+00 9.530e+00 8.270e+00 6.110e+00\n",
            " 7.980e+00 8.060e+00 6.560e+00 7.030e+00 6.730e+00 6.960e+00 6.420e+00\n",
            " 8.320e+00 5.930e+00 6.340e+00 7.080e+00 9.740e+00 9.130e+00 6.060e+00\n",
            " 8.250e+00 8.380e+00 9.430e+00 7.200e+00 7.770e+00 7.690e+00 7.590e+00\n",
            " 7.130e+00 4.920e+00 9.970e+00 9.470e+00 6.240e+00 5.520e+00 7.940e+00\n",
            " 8.930e+00 7.260e+00 7.320e+00 1.168e+01 5.640e+00 8.690e+00 7.010e+00\n",
            " 8.000e+00 6.280e+00 7.920e+00 9.170e+00 8.640e+00 6.200e+00 6.480e+00\n",
            " 1.205e+01 7.340e+00 6.990e+00 7.700e+00 6.040e+00 1.077e+01 7.610e+00\n",
            " 1.012e+01 8.840e+00 8.290e+00 9.340e+00 7.560e+00 6.500e+00 7.210e+00\n",
            " 6.840e+00 9.360e+00 7.580e+00 8.310e+00 8.020e+00 8.720e+00 8.400e+00\n",
            " 7.420e+00 1.578e+01 7.990e+00 9.580e+00 8.970e+00 6.860e+00 8.620e+00\n",
            " 6.410e+00 7.410e+00 6.720e+00 1.311e+01 6.140e+00 7.250e+00 6.430e+00\n",
            " 8.350e+00 1.103e+01 7.830e+00 1.029e+01 9.090e+00 6.320e+00 6.670e+00\n",
            " 8.990e+00 9.620e+00 6.750e+00 1.067e+01 7.600e+00 8.440e+00 9.120e+00\n",
            " 8.510e+00 7.910e+00 2.094e+01 6.880e+00 6.830e+00 9.150e+00 7.110e+00\n",
            " 9.500e+00 9.290e+00 9.640e+00 1.005e+01 9.030e+00 1.330e+01 1.523e+01\n",
            " 9.080e+00 1.138e+01 7.360e+00 8.110e+00 9.330e+00 1.532e+01 7.890e+00\n",
            " 8.470e+00 8.030e+00 9.560e+00 8.500e+00 1.036e+01 9.930e+00 9.100e+00\n",
            " 9.230e+00 6.390e+00 8.450e+00 8.480e+00 9.680e+00 6.490e+00 7.170e+00\n",
            " 1.313e+01 9.850e+00 5.850e+01 2.795e+01 1.462e+01 6.690e+00 8.370e+00\n",
            " 6.630e+00 7.880e+00 7.850e+00 7.300e+00 7.020e+00 7.220e+00 7.290e+00\n",
            " 1.037e+01 9.210e+00 6.470e+00 1.212e+01 6.530e+00 1.121e+01 6.520e+00\n",
            " 9.070e+00 8.940e+00 1.200e+01 6.820e+00 8.730e+00 9.400e+00 1.017e+01\n",
            " 1.125e+01 7.160e+00 1.333e+01 1.056e+01 7.060e+00 9.000e+00 1.031e+01\n",
            " 1.400e+01 7.630e+00 1.211e+01 1.184e+01 1.114e+01 1.116e+01 9.780e+00\n",
            " 1.342e+01 1.023e+01 7.860e+00 1.171e+01 9.730e+00 1.091e+01 1.054e+01] .\n",
            "\n",
            "No. of unique values in  calculated_host_listings_count is [  6   2   1   4   3   5   7  13  28  11   8   9  52  18  15  19  10  39\n",
            "  26  29  12  21  96  14  34  43 121  37  49  31  91  16  87  33  23  50\n",
            "  20  25 232  17  47 103  65  30  27 327  32] .\n",
            "\n",
            "No. of unique values in  availability_365 is [365 355 194   0 129 220 188   6  39 314 333  46 321  12  21 249 347 364\n",
            " 304 233  85  75 311  67 255 284 359 269 340  22  96 345 273 309  95 215\n",
            " 265 192 251 302 140 234 257  30 301 294 320 154 263 180 231 297 292 191\n",
            "  72 362 336 116  88 224 322 324 132 295 238 209 328  38   7 272  26 288\n",
            " 317 207 185 158   9 198 219 342 312 243 152 137 222 346 208 279 250 164\n",
            " 298 260 107 199 299  20 318 216 245 189 307 310 213 278  16 178 275 163\n",
            "  34 280   1 170 214 248 262 339  10 290 230  53 126   3  37 353 177 246\n",
            " 225  18 343 326 162 240 363 247 323 125  91 286  60  58 351 201 232 258\n",
            " 341 244 329 253 348   2  56  68 360  76  15 226 349  11 316 281 287  14\n",
            "  86 261 331  51 254 103  42 325  35 203   5 276 102  71  78   8 182  79\n",
            "  49 156 200 106 135  81 142 179  52 237 204 181 296 335 282 274  98 157\n",
            " 174 223 361 283 315  36 271 139 193 136 277 221 264 236  89  23 218 235\n",
            " 119 350 161 259  27 167 358  59 337  43  25 127 303 115 268  44  65 252\n",
            "  64 111  90 338  31 241 285 183  84 166  28  83 305 356 308 229 210 153\n",
            " 332 120 313  69 293   4 300  40 117 206 144 354  41 270 306  33  50  80\n",
            "  97 118 134  17 289 121 205  74  62  29 109 168 146 242 352 155 291 266\n",
            " 101 190 327 217 171 110  87 202  70 147 169 212 122 330  54 196  57  73\n",
            " 149 239  63 195  47 319  19 112 344  77 160 141  13  24 150 128 176 357\n",
            " 211 172 256 165  32 105 267 148  93  45 175 159  48 100 184 114 133 186\n",
            " 334  94 151 228 113  55  66 173 104 197  99 131 143 124 130 187 145 108\n",
            " 123  92  61 138 227  82] .\n",
            "\n"
          ]
        }
      ],
      "source": [
        "#Check Unique Values for each variable\n",
        "for i in airbnb_data.columns.tolist():\n",
        "    print(\"No. of unique values in \",i,\"is\",airbnb_data[i].unique(),\".\")\n",
        "    print('')"
      ]
    },
    {
      "cell_type": "code",
      "execution_count": 13,
      "metadata": {
        "id": "zms12Yq5n-jE",
        "colab": {
          "base_uri": "https://localhost:8080/"
        },
        "outputId": "e2518195-a0b8-45cb-86b6-fe1ec2e7cac3"
      },
      "outputs": [
        {
          "output_type": "stream",
          "name": "stdout",
          "text": [
            "No. of unique values in  id is 48895 .\n",
            "No. of unique values in  name is 47905 .\n",
            "No. of unique values in  host_id is 37457 .\n",
            "No. of unique values in  host_name is 11452 .\n",
            "No. of unique values in  neighbourhood_group is 5 .\n",
            "No. of unique values in  neighbourhood is 221 .\n",
            "No. of unique values in  latitude is 19048 .\n",
            "No. of unique values in  longitude is 14718 .\n",
            "No. of unique values in  room_type is 3 .\n",
            "No. of unique values in  price is 674 .\n",
            "No. of unique values in  minimum_nights is 109 .\n",
            "No. of unique values in  number_of_reviews is 394 .\n",
            "No. of unique values in  last_review is 1764 .\n",
            "No. of unique values in  reviews_per_month is 937 .\n",
            "No. of unique values in  calculated_host_listings_count is 47 .\n",
            "No. of unique values in  availability_365 is 366 .\n"
          ]
        }
      ],
      "source": [
        "# Check Unique Values for each variable.\n",
        "for i in airbnb_data.columns.tolist():\n",
        "  print(\"No. of unique values in \",i,\"is\",airbnb_data[i].nunique(),\".\")"
      ]
    },
    {
      "cell_type": "markdown",
      "metadata": {
        "id": "dauF4eBmngu3"
      },
      "source": [
        "## 3. ***Data Wrangling***"
      ]
    },
    {
      "cell_type": "markdown",
      "metadata": {
        "id": "bKJF3rekwFvQ"
      },
      "source": [
        "### Data Wrangling Code"
      ]
    },
    {
      "cell_type": "code",
      "execution_count": 14,
      "metadata": {
        "scrolled": false,
        "id": "_PPqNUMR3GRP",
        "colab": {
          "base_uri": "https://localhost:8080/"
        },
        "outputId": "2b49f662-5b52-41c9-fd82-e8f4271f7986"
      },
      "outputs": [
        {
          "output_type": "execute_result",
          "data": {
            "text/plain": [
              "id                                    0\n",
              "name                                 16\n",
              "host_id                               0\n",
              "host_name                            21\n",
              "neighbourhood_group                   0\n",
              "neighbourhood                         0\n",
              "latitude                              0\n",
              "longitude                             0\n",
              "room_type                             0\n",
              "price                                 0\n",
              "minimum_nights                        0\n",
              "number_of_reviews                     0\n",
              "last_review                       10052\n",
              "reviews_per_month                 10052\n",
              "calculated_host_listings_count        0\n",
              "availability_365                      0\n",
              "dtype: int64"
            ]
          },
          "metadata": {},
          "execution_count": 14
        }
      ],
      "source": [
        "airbnb_data.isnull().sum()"
      ]
    },
    {
      "cell_type": "markdown",
      "metadata": {
        "id": "Kj3hRFQc3GRQ"
      },
      "source": [
        "There are 4 columns that have null values, have to replace them as it might affect later while considering remaining values of the same column."
      ]
    },
    {
      "cell_type": "code",
      "execution_count": 15,
      "metadata": {
        "id": "ownfJpWz3GRQ"
      },
      "outputs": [],
      "source": [
        "#filling null values of 4 columns with respective values\n",
        "airbnb_data.fillna({'name':\"NoName\"}, inplace=True)\n",
        "airbnb_data.fillna({'host_name':\"NoName\"}, inplace=True)\n",
        "airbnb_data.fillna({'last_review':\"NotReviewed\"}, inplace=True)\n",
        "airbnb_data.fillna({'reviews_per_month':0}, inplace=True)"
      ]
    },
    {
      "cell_type": "code",
      "execution_count": 16,
      "metadata": {
        "id": "VEAzU69r3GRQ",
        "colab": {
          "base_uri": "https://localhost:8080/"
        },
        "outputId": "bedaa6a0-a291-4c3e-bf62-b6faf07c179e"
      },
      "outputs": [
        {
          "output_type": "execute_result",
          "data": {
            "text/plain": [
              "id                                0\n",
              "name                              0\n",
              "host_id                           0\n",
              "host_name                         0\n",
              "neighbourhood_group               0\n",
              "neighbourhood                     0\n",
              "latitude                          0\n",
              "longitude                         0\n",
              "room_type                         0\n",
              "price                             0\n",
              "minimum_nights                    0\n",
              "number_of_reviews                 0\n",
              "last_review                       0\n",
              "reviews_per_month                 0\n",
              "calculated_host_listings_count    0\n",
              "availability_365                  0\n",
              "dtype: int64"
            ]
          },
          "metadata": {},
          "execution_count": 16
        }
      ],
      "source": [
        "#checking Null values (after replacing Null value to respective values)\n",
        "airbnb_data.isnull().sum()"
      ]
    },
    {
      "cell_type": "markdown",
      "metadata": {
        "id": "x24ZcAUd3GRR"
      },
      "source": [
        "We have successfully treated the null values and now the data is cleaned so, we can explore some data analysis."
      ]
    },
    {
      "cell_type": "code",
      "execution_count": 17,
      "metadata": {
        "id": "pSI0zuQ53GRR",
        "colab": {
          "base_uri": "https://localhost:8080/"
        },
        "outputId": "dabdf55b-d044-4820-e8ff-c481c0680999"
      },
      "outputs": [
        {
          "output_type": "execute_result",
          "data": {
            "text/plain": [
              "count    48895.000000\n",
              "mean       152.720687\n",
              "std        240.154170\n",
              "min          0.000000\n",
              "25%         69.000000\n",
              "50%        106.000000\n",
              "75%        175.000000\n",
              "max      10000.000000\n",
              "Name: price, dtype: float64"
            ]
          },
          "metadata": {},
          "execution_count": 17
        }
      ],
      "source": [
        "#statistical information about price\n",
        "airbnb_data['price'].describe()"
      ]
    },
    {
      "cell_type": "code",
      "execution_count": 18,
      "metadata": {
        "id": "rNiOVItg3GRR",
        "colab": {
          "base_uri": "https://localhost:8080/"
        },
        "outputId": "e6c918e0-a367-42a1-a3b2-dffc445b8840"
      },
      "outputs": [
        {
          "output_type": "execute_result",
          "data": {
            "text/plain": [
              "11"
            ]
          },
          "metadata": {},
          "execution_count": 18
        }
      ],
      "source": [
        "airbnb_data.price[airbnb_data.price <= 0].count()"
      ]
    },
    {
      "cell_type": "markdown",
      "metadata": {
        "id": "eCAqeBq73GRS"
      },
      "source": [
        "price shoudn't be zero or less than zero , in our data set 11 data points have zero.  \n",
        "\n",
        "let's drop all zero price in dataset."
      ]
    },
    {
      "cell_type": "code",
      "execution_count": 19,
      "metadata": {
        "id": "04EpSZc93GRS"
      },
      "outputs": [],
      "source": [
        "# drop all zero price in dataset\n",
        "airbnb_data.drop(airbnb_data.price[airbnb_data.price <= 0].index, axis=0, inplace=True)"
      ]
    },
    {
      "cell_type": "code",
      "execution_count": 20,
      "metadata": {
        "id": "2pnp8seY3GRS",
        "colab": {
          "base_uri": "https://localhost:8080/"
        },
        "outputId": "b9391337-a01f-47a8-9f4d-e2f7236aa51b"
      },
      "outputs": [
        {
          "output_type": "execute_result",
          "data": {
            "text/plain": [
              "239"
            ]
          },
          "metadata": {},
          "execution_count": 20
        }
      ],
      "source": [
        "# how many data points (price greater than 1000)\n",
        "airbnb_data.price[airbnb_data.price > 1000].count()"
      ]
    },
    {
      "cell_type": "markdown",
      "metadata": {
        "id": "QbZbxZmg3GRT"
      },
      "source": [
        "In dataset, there are 239 data-points with price greater than 1000\n",
        "we can treat them as outliers and drop them."
      ]
    },
    {
      "cell_type": "code",
      "execution_count": 21,
      "metadata": {
        "id": "FZOLISqU3GRT"
      },
      "outputs": [],
      "source": [
        "# drop datapoints that have greater than 1000 price in dataset\n",
        "airbnb_data.drop(airbnb_data.price[airbnb_data.price > 1000].index, axis=0, inplace=True)"
      ]
    },
    {
      "cell_type": "code",
      "execution_count": 22,
      "metadata": {
        "id": "1brpia3x3GRT",
        "colab": {
          "base_uri": "https://localhost:8080/"
        },
        "outputId": "ddf7c892-ff45-4162-8adb-fec14db75d16"
      },
      "outputs": [
        {
          "output_type": "execute_result",
          "data": {
            "text/plain": [
              "0"
            ]
          },
          "metadata": {},
          "execution_count": 22
        }
      ],
      "source": [
        "airbnb_data.price[airbnb_data.price > 1000].count()"
      ]
    },
    {
      "cell_type": "code",
      "execution_count": 23,
      "metadata": {
        "id": "Nhk-Wlez3GRU",
        "colab": {
          "base_uri": "https://localhost:8080/"
        },
        "outputId": "78a2bc78-0704-49d2-a6cd-8fd9c0b55e98"
      },
      "outputs": [
        {
          "output_type": "execute_result",
          "data": {
            "text/plain": [
              "count    48645.000000\n",
              "mean         6.973461\n",
              "std         20.267263\n",
              "min          1.000000\n",
              "50%          3.000000\n",
              "75%          5.000000\n",
              "80%          6.000000\n",
              "90%         28.000000\n",
              "97%         30.000000\n",
              "98%         30.000000\n",
              "99%         40.000000\n",
              "max       1250.000000\n",
              "Name: minimum_nights, dtype: float64"
            ]
          },
          "metadata": {},
          "execution_count": 23
        }
      ],
      "source": [
        "airbnb_data.minimum_nights.describe([0.75,0.80,0.90,0.97,0.98,0.99])"
      ]
    },
    {
      "cell_type": "code",
      "execution_count": 24,
      "metadata": {
        "id": "9lmGrZQ03GRU",
        "colab": {
          "base_uri": "https://localhost:8080/"
        },
        "outputId": "57b7e590-e0b5-4761-fbea-5b29d33b23b0"
      },
      "outputs": [
        {
          "output_type": "execute_result",
          "data": {
            "text/plain": [
              "483"
            ]
          },
          "metadata": {},
          "execution_count": 24
        }
      ],
      "source": [
        "# how many data points (minimum_nights greater than 40)\n",
        "airbnb_data.minimum_nights[airbnb_data.minimum_nights > 40].count()"
      ]
    },
    {
      "cell_type": "code",
      "execution_count": 25,
      "metadata": {
        "id": "WoVN2FwS3GRV"
      },
      "outputs": [],
      "source": [
        "# drop datapoints that have greater than 40 minimum_nights in dataset\n",
        "airbnb_data.drop(airbnb_data.minimum_nights[airbnb_data.minimum_nights > 40].index, axis=0, inplace=True)"
      ]
    },
    {
      "cell_type": "code",
      "execution_count": 26,
      "metadata": {
        "id": "MfLp7qu73GRV",
        "colab": {
          "base_uri": "https://localhost:8080/"
        },
        "outputId": "492b5af8-9cf0-4ce7-fd43-c05a365e3eca"
      },
      "outputs": [
        {
          "output_type": "execute_result",
          "data": {
            "text/plain": [
              "0"
            ]
          },
          "metadata": {},
          "execution_count": 26
        }
      ],
      "source": [
        "airbnb_data.minimum_nights[airbnb_data.minimum_nights > 40].count()"
      ]
    },
    {
      "cell_type": "markdown",
      "metadata": {
        "id": "wk-9a2fpoLcV"
      },
      "source": [
        "Which Area has more number of bookings?"
      ]
    },
    {
      "cell_type": "code",
      "execution_count": 27,
      "metadata": {
        "id": "uogC1Fxh3GRW",
        "colab": {
          "base_uri": "https://localhost:8080/"
        },
        "outputId": "e54fd198-6ade-4f2a-a4dc-e1660c05fef2"
      },
      "outputs": [
        {
          "output_type": "execute_result",
          "data": {
            "text/plain": [
              "Manhattan        21220\n",
              "Brooklyn         19870\n",
              "Queens            5625\n",
              "Bronx             1077\n",
              "Staten Island      370\n",
              "Name: neighbourhood_group, dtype: int64"
            ]
          },
          "metadata": {},
          "execution_count": 27
        }
      ],
      "source": [
        "# counts number of bookings\n",
        "airbnb_data['neighbourhood_group'].value_counts()"
      ]
    },
    {
      "cell_type": "markdown",
      "metadata": {
        "id": "GO2b6GdO3GRW"
      },
      "source": [
        "* Manhattan has more number of bookings"
      ]
    },
    {
      "cell_type": "markdown",
      "metadata": {
        "id": "MSa1f5Uengrz"
      },
      "source": [
        "### What all manipulations have you done and insights you found?"
      ]
    },
    {
      "cell_type": "markdown",
      "metadata": {
        "id": "LbyXE7I1olp8"
      },
      "source": [
        "There are 4 columns that have null values, have to replace them as it might affect later while considering remaining values of the same column.\n",
        "We have successfully treated the null values and now the data is cleaned so, we can explore some data analysis.\n",
        "price shoudn't be zero or less than zero , in our data set 11 data points have zero.\n",
        "let's drop all zero price in dataset.\n",
        "In dataset, there are 239 data-points with price greater than 1000 we can treat them as outliers and drop them.\n",
        "Which Area has more number of bookings?\n",
        "Manhattan has more number of bookings"
      ]
    }
  ]
}