{
  "nbformat": 4,
  "nbformat_minor": 0,
  "metadata": {
    "colab": {
      "provenance": [],
      "authorship_tag": "ABX9TyNOULxTi9rVkQbzbMRId5bw"
    },
    "kernelspec": {
      "name": "python3",
      "display_name": "Python 3"
    },
    "language_info": {
      "name": "python"
    }
  },
  "cells": [
    {
      "cell_type": "markdown",
      "metadata": {
        "id": "vncDsAP0Gaoa"
      },
      "source": [
        "# **Project Name**    - Airbnb Bookings Analysis\n",
        "\n"
      ]
    },
    {
      "cell_type": "markdown",
      "metadata": {
        "id": "beRrZCGUAJYm"
      },
      "source": [
        "##### **Project Type**    - EDA\n",
        "##### **Contribution**    - Individual\n",
        "##### **Team Member 1 -** Rina Patel"
      ]
    },
    {
      "cell_type": "markdown",
      "metadata": {
        "id": "FJNUwmbgGyua"
      },
      "source": [
        "# **Project Summary -**"
      ]
    },
    {
      "cell_type": "markdown",
      "metadata": {
        "id": "F6v_1wHtG2nS"
      },
      "source": [
        "Airbnb is a company that facilitates an online marketplace for lodging, primarily homestays for vacation rentals, and tourism activities. It basically connects travellers with local hosts who want to rent out their homes with people who are looking for accommodations in that locality. On the other hand, this platform enables hosts to list their available space and earn extra income in the form of rent and it also enables travelers to book unique homestays from local hosts, saving them money and giving them a chance to interact with locals.\n",
        "In the world of rising new technology and innovation, Travel industry is advancing with the role of Data Science and Analytics. Data analysis can help them to understand their business in a quite different manner and helps to improve the quality of the service by identifying the weak areas of the business. This study demonstrates how different analyses help out to make better business decisions and help analyse customer trends and satisfaction, which can lead to new and better products and services. Different analysis performed such as Exploratory Data Analysis to get the key insights from this data based on which business decisions will be taken.\n",
        "\n",
        "#**Feature information in details**\n",
        "*  **id**  unique for every observation\n",
        "* **name** name of properties\n",
        "* **host_id** id for host\n",
        "* **host_name** name of host\n",
        "* **neighbourhood_group** it contains 5 Area ['Brooklyn', 'Manhattan', 'Queens', 'Staten Island', 'Bronx']\n",
        "* **neighbourhood** it contains 221 locality names\n",
        "* **latitude** it stores latitude\n",
        "* **longitude** it stores longitude\n",
        "* **room_type** it contains 3 unique room type ['Private room', 'Entire home/apt', 'Shared room']\n",
        "* **price**  per night for rental property\n",
        "* **minimum_nights** you have to book how many days\n",
        "* **number_of_reviews** numbers of review in particular room\n",
        "* **last_review** last_review date\n",
        "* **reviews_per_month**  numbers of review per month\n",
        "* **calculated_host_listings_count** Total number of listings owned by the host\n",
        "* **availability_365** The number of days for which a particular host is available in a year\n",
        "\n",
        "#**Demand Prediction**: Predicting the demand for Airbnb listings in specific locations and time periods. This helps hosts understand when their properties are likely to be in high demand and adjust their pricing accordingly.\n",
        "\n",
        "#**Price Optimization**: Determining the optimal pricing strategy for hosts. This involves analyzing factors such as property type, location, amenities, and historical booking data to recommend competitive and profitable prices.\n",
        "\n",
        "#**Guest Profiling**: Profiling the typical guests who book Airbnb listings. Understanding the demographics, preferences, and behaviors of guests can help hosts tailor their listings to attract their target audience.\n",
        "\n",
        "#**Competitor Analysis**: Analyzing the competition in a given location to identify market gaps and opportunities for hosts. This involves studying the prices, ratings, and features of similar listings.\n",
        "\n",
        "#**Review Sentiment Analysis**: Analyzing guest reviews to assess the overall satisfaction of guests and identify areas for improvement. Positive reviews can also be used to promote listings.\n",
        "\n",
        "#**Data Collection**:The first step in an Airbnb booking analysis project is data collection.The data typically includes information about listings, booking dates, guest demographics, pricing, reviews, and more.\n",
        "\n",
        "#**Data Preprocessing**:Once the data is collected, it must be preprocessed to ensure its quality and consistency. This involves handling missing values, dealing with outliers, and converting data types.\n",
        "\n",
        "#**Exploratory Data Analysis (EDA)**:\"Exploratory Data Analysis\" (EDA) is a \"Data Exploration\" step in the Data Analysis Process, where a number of techniques are used to better understand the dataset being used.\n",
        "   Data preprocessing is a process of preparing the raw data and making it suitable for our analysis purpose, where we have to do lot of Data Cleaning, handle the missing values by using appropriate imputation techniques and based on that variable nature i.e. either of Categorical & Numerical variable.\n",
        "\n",
        "#**Data Visualization**:Visualizations are a powerful tool for communicating findings. Charts, graphs, and maps can be used to showcase trends, correlations, and predictions. For example,\n",
        "●\tUnivariate Analysis\n",
        "●\tBivariate Analysis or Relationship of Numerical Features\n",
        "●\tRelationship of Categorical Features\n",
        "●\tCorrelation plot\n",
        "●\tLocation wise rental price exploration\n",
        "●\tTop 100 expensive location identify\n",
        "●\tAnd finding the reason behind more rental to specific areas.\n",
        "\n",
        "#**Conclusion**:In this EDA project, different use cases are analysed for the given dataset to make better business decisions and help analyse customer trends and satisfaction, which can lead to new and better products and services."
      ]
    },
    {
      "cell_type": "markdown",
      "metadata": {
        "id": "w6K7xa23Elo4"
      },
      "source": [
        "# **GitHub Link -**"
      ]
    },
    {
      "cell_type": "markdown",
      "metadata": {
        "id": "h1o69JH3Eqqn"
      },
      "source": [
        "Provide your GitHub Link here."
      ]
    },
    {
      "cell_type": "markdown",
      "metadata": {
        "id": "yQaldy8SH6Dl"
      },
      "source": [
        "# **Problem Statement**\n"
      ]
    },
    {
      "cell_type": "markdown",
      "metadata": {
        "id": "DpeJGUA3kjGy"
      },
      "source": [
        "Travel industries are having an important reflection of the economy from the past few decades, and Airbnb housing price ranges are of great interest for both Hosts and Travellers. In this project, we are analysing the various aspects with different use cases which covers many aspects of Airbnb listings. It helps in not only understanding the meaningful relationships between attributes but it also allows us to do our own research and come-up with our findings."
      ]
    },
    {
      "cell_type": "markdown",
      "metadata": {
        "id": "PH-0ReGfmX4f"
      },
      "source": [
        "#### **Define Your Business Objective?**"
      ]
    },
    {
      "cell_type": "markdown",
      "metadata": {
        "id": "PhDvGCAqmjP1"
      },
      "source": [
        "Business objectives: Increase Market Share,Boost Revenue,Expand Geographical Reach,Enhance Customer Satisfaction,Reduce Operational Costs,Employee Development are the foundation of strategic planning and execution. They provide a clear roadmap for organizations to follow, ensuring that efforts and resources are channeled toward achieving specific, measurable, and time-bound goals that align with the organization's overall mission and vision. Effective business objectives drive success, motivate stakeholders, and facilitate performance evaluation."
      ]
    },
    {
      "cell_type": "markdown",
      "metadata": {
        "id": "mDgbUHAGgjLW"
      },
      "source": [
        "# **General Guidelines** : -  "
      ]
    },
    {
      "cell_type": "markdown",
      "metadata": {
        "id": "ZrxVaUj-hHfC"
      },
      "source": [
        "1.   Well-structured, formatted, and commented code is required.\n",
        "2.   Exception Handling, Production Grade Code & Deployment Ready Code will be a plus. Those students will be awarded some additional credits.\n",
        "     \n",
        "     The additional credits will have advantages over other students during Star Student selection.\n",
        "       \n",
        "             [ Note: - Deployment Ready Code is defined as, the whole .ipynb notebook should be executable in one go\n",
        "                       without a single error logged. ]\n",
        "\n",
        "3.   Each and every logic should have proper comments.\n",
        "4. You may add as many number of charts you want. Make Sure for each and every chart the following format should be answered.\n",
        "        \n",
        "\n",
        "```\n",
        "# Chart visualization code\n",
        "```\n",
        "            \n",
        "\n",
        "*   Why did you pick the specific chart?\n",
        "*   What is/are the insight(s) found from the chart?\n",
        "* Will the gained insights help creating a positive business impact?\n",
        "Are there any insights that lead to negative growth? Justify with specific reason.\n",
        "\n",
        "5. You have to create at least 20 logical & meaningful charts having important insights.\n",
        "\n",
        "\n",
        "[ Hints : - Do the Vizualization in  a structured way while following \"UBM\" Rule.\n",
        "\n",
        "U - Univariate Analysis,\n",
        "\n",
        "B - Bivariate Analysis (Numerical - Categorical, Numerical - Numerical, Categorical - Categorical)\n",
        "\n",
        "M - Multivariate Analysis\n",
        " ]\n",
        "\n",
        "\n",
        "\n"
      ]
    }
  ]
}